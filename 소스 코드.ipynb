{
  "cells": [
    {
      "cell_type": "markdown",
      "metadata": {
        "id": "I1BNKVnBSmr0"
      },
      "source": [
        "# 0. Setting"
      ]
    },
    {
      "cell_type": "markdown",
      "metadata": {
        "id": "VeQPMCONSvuh"
      },
      "source": [
        "## A.패키지 설치"
      ]
    },
    {
      "cell_type": "code",
      "execution_count": 4,
      "metadata": {
        "colab": {
          "base_uri": "https://localhost:8080/"
        },
        "collapsed": true,
        "id": "bFtgOAkZS0Fk",
        "outputId": "e4654cb1-9538-495d-e87a-c98b83482e3a"
      },
      "outputs": [
        {
          "name": "stdout",
          "output_type": "stream",
          "text": [
            "Collecting langchain\n",
            "  Downloading langchain-0.3.2-py3-none-any.whl.metadata (7.1 kB)\n",
            "Collecting openai\n",
            "  Downloading openai-1.51.0-py3-none-any.whl.metadata (24 kB)\n",
            "Collecting langchain_upstage\n",
            "  Downloading langchain_upstage-0.3.0-py3-none-any.whl.metadata (3.3 kB)\n",
            "Collecting langchain_core\n",
            "  Downloading langchain_core-0.3.9-py3-none-any.whl.metadata (6.3 kB)\n",
            "Collecting langchain-community\n",
            "  Downloading langchain_community-0.3.1-py3-none-any.whl.metadata (2.8 kB)\n",
            "Collecting chromadb\n",
            "  Downloading chromadb-0.5.11-py3-none-any.whl.metadata (6.8 kB)\n",
            "Requirement already satisfied: PyYAML>=5.3 in /usr/local/lib/python3.10/dist-packages (from langchain) (6.0.2)\n",
            "Requirement already satisfied: SQLAlchemy<3,>=1.4 in /usr/local/lib/python3.10/dist-packages (from langchain) (2.0.35)\n",
            "Requirement already satisfied: aiohttp<4.0.0,>=3.8.3 in /usr/local/lib/python3.10/dist-packages (from langchain) (3.10.8)\n",
            "Requirement already satisfied: async-timeout<5.0.0,>=4.0.0 in /usr/local/lib/python3.10/dist-packages (from langchain) (4.0.3)\n",
            "Collecting langchain-text-splitters<0.4.0,>=0.3.0 (from langchain)\n",
            "  Downloading langchain_text_splitters-0.3.0-py3-none-any.whl.metadata (2.3 kB)\n",
            "Collecting langsmith<0.2.0,>=0.1.17 (from langchain)\n",
            "  Downloading langsmith-0.1.131-py3-none-any.whl.metadata (13 kB)\n",
            "Requirement already satisfied: numpy<2,>=1 in /usr/local/lib/python3.10/dist-packages (from langchain) (1.26.4)\n",
            "Requirement already satisfied: pydantic<3.0.0,>=2.7.4 in /usr/local/lib/python3.10/dist-packages (from langchain) (2.9.2)\n",
            "Requirement already satisfied: requests<3,>=2 in /usr/local/lib/python3.10/dist-packages (from langchain) (2.32.3)\n",
            "Collecting tenacity!=8.4.0,<9.0.0,>=8.1.0 (from langchain)\n",
            "  Downloading tenacity-8.5.0-py3-none-any.whl.metadata (1.2 kB)\n",
            "Requirement already satisfied: anyio<5,>=3.5.0 in /usr/local/lib/python3.10/dist-packages (from openai) (3.7.1)\n",
            "Requirement already satisfied: distro<2,>=1.7.0 in /usr/lib/python3/dist-packages (from openai) (1.7.0)\n",
            "Collecting httpx<1,>=0.23.0 (from openai)\n",
            "  Downloading httpx-0.27.2-py3-none-any.whl.metadata (7.1 kB)\n",
            "Collecting jiter<1,>=0.4.0 (from openai)\n",
            "  Downloading jiter-0.5.0-cp310-cp310-manylinux_2_17_x86_64.manylinux2014_x86_64.whl.metadata (3.6 kB)\n",
            "Requirement already satisfied: sniffio in /usr/local/lib/python3.10/dist-packages (from openai) (1.3.1)\n",
            "Requirement already satisfied: tqdm>4 in /usr/local/lib/python3.10/dist-packages (from openai) (4.66.5)\n",
            "Requirement already satisfied: typing-extensions<5,>=4.11 in /usr/local/lib/python3.10/dist-packages (from openai) (4.12.2)\n",
            "Collecting langchain-openai<0.3,>=0.2 (from langchain_upstage)\n",
            "  Downloading langchain_openai-0.2.2-py3-none-any.whl.metadata (2.6 kB)\n",
            "Collecting pypdf<5.0.0,>=4.2.0 (from langchain_upstage)\n",
            "  Downloading pypdf-4.3.1-py3-none-any.whl.metadata (7.4 kB)\n",
            "Requirement already satisfied: tokenizers<0.20.0,>=0.19.1 in /usr/local/lib/python3.10/dist-packages (from langchain_upstage) (0.19.1)\n",
            "Collecting jsonpatch<2.0,>=1.33 (from langchain_core)\n",
            "  Downloading jsonpatch-1.33-py2.py3-none-any.whl.metadata (3.0 kB)\n",
            "Requirement already satisfied: packaging<25,>=23.2 in /usr/local/lib/python3.10/dist-packages (from langchain_core) (24.1)\n",
            "Collecting dataclasses-json<0.7,>=0.5.7 (from langchain-community)\n",
            "  Downloading dataclasses_json-0.6.7-py3-none-any.whl.metadata (25 kB)\n",
            "Collecting pydantic-settings<3.0.0,>=2.4.0 (from langchain-community)\n",
            "  Downloading pydantic_settings-2.5.2-py3-none-any.whl.metadata (3.5 kB)\n",
            "Requirement already satisfied: build>=1.0.3 in /usr/local/lib/python3.10/dist-packages (from chromadb) (1.2.2)\n",
            "Collecting chroma-hnswlib==0.7.6 (from chromadb)\n",
            "  Downloading chroma_hnswlib-0.7.6-cp310-cp310-manylinux_2_17_x86_64.manylinux2014_x86_64.whl.metadata (252 bytes)\n",
            "Collecting fastapi>=0.95.2 (from chromadb)\n",
            "  Downloading fastapi-0.115.0-py3-none-any.whl.metadata (27 kB)\n",
            "Collecting uvicorn>=0.18.3 (from uvicorn[standard]>=0.18.3->chromadb)\n",
            "  Downloading uvicorn-0.31.0-py3-none-any.whl.metadata (6.6 kB)\n",
            "Collecting posthog>=2.4.0 (from chromadb)\n",
            "  Downloading posthog-3.7.0-py2.py3-none-any.whl.metadata (2.0 kB)\n",
            "Collecting onnxruntime>=1.14.1 (from chromadb)\n",
            "  Downloading onnxruntime-1.19.2-cp310-cp310-manylinux_2_27_x86_64.manylinux_2_28_x86_64.whl.metadata (4.5 kB)\n",
            "Requirement already satisfied: opentelemetry-api>=1.2.0 in /usr/local/lib/python3.10/dist-packages (from chromadb) (1.27.0)\n",
            "Collecting opentelemetry-exporter-otlp-proto-grpc>=1.2.0 (from chromadb)\n",
            "  Downloading opentelemetry_exporter_otlp_proto_grpc-1.27.0-py3-none-any.whl.metadata (2.3 kB)\n",
            "Collecting opentelemetry-instrumentation-fastapi>=0.41b0 (from chromadb)\n",
            "  Downloading opentelemetry_instrumentation_fastapi-0.48b0-py3-none-any.whl.metadata (2.1 kB)\n",
            "Requirement already satisfied: opentelemetry-sdk>=1.2.0 in /usr/local/lib/python3.10/dist-packages (from chromadb) (1.27.0)\n",
            "Collecting pypika>=0.48.9 (from chromadb)\n",
            "  Downloading PyPika-0.48.9.tar.gz (67 kB)\n",
            "\u001b[2K     \u001b[90m━━━━━━━━━━━━━━━━━━━━━━━━━━━━━━━━━━━━━━━━\u001b[0m \u001b[32m67.3/67.3 kB\u001b[0m \u001b[31m5.6 MB/s\u001b[0m eta \u001b[36m0:00:00\u001b[0m\n",
            "\u001b[?25h  Installing build dependencies ... \u001b[?25l\u001b[?25hdone\n",
            "  Getting requirements to build wheel ... \u001b[?25l\u001b[?25hdone\n",
            "  Preparing metadata (pyproject.toml) ... \u001b[?25l\u001b[?25hdone\n",
            "Collecting overrides>=7.3.1 (from chromadb)\n",
            "  Downloading overrides-7.7.0-py3-none-any.whl.metadata (5.8 kB)\n",
            "Requirement already satisfied: importlib-resources in /usr/local/lib/python3.10/dist-packages (from chromadb) (6.4.5)\n",
            "Requirement already satisfied: grpcio>=1.58.0 in /usr/local/lib/python3.10/dist-packages (from chromadb) (1.64.1)\n",
            "Collecting bcrypt>=4.0.1 (from chromadb)\n",
            "  Downloading bcrypt-4.2.0-cp39-abi3-manylinux_2_28_x86_64.whl.metadata (9.6 kB)\n",
            "Requirement already satisfied: typer>=0.9.0 in /usr/local/lib/python3.10/dist-packages (from chromadb) (0.12.5)\n",
            "Collecting kubernetes>=28.1.0 (from chromadb)\n",
            "  Downloading kubernetes-31.0.0-py2.py3-none-any.whl.metadata (1.5 kB)\n",
            "Collecting mmh3>=4.0.1 (from chromadb)\n",
            "  Downloading mmh3-5.0.1-cp310-cp310-manylinux_2_5_x86_64.manylinux1_x86_64.manylinux_2_17_x86_64.manylinux2014_x86_64.whl.metadata (14 kB)\n",
            "Collecting orjson>=3.9.12 (from chromadb)\n",
            "  Downloading orjson-3.10.7-cp310-cp310-manylinux_2_17_x86_64.manylinux2014_x86_64.whl.metadata (50 kB)\n",
            "\u001b[2K     \u001b[90m━━━━━━━━━━━━━━━━━━━━━━━━━━━━━━━━━━━━━━━━\u001b[0m \u001b[32m50.4/50.4 kB\u001b[0m \u001b[31m4.3 MB/s\u001b[0m eta \u001b[36m0:00:00\u001b[0m\n",
            "\u001b[?25hRequirement already satisfied: rich>=10.11.0 in /usr/local/lib/python3.10/dist-packages (from chromadb) (13.8.1)\n",
            "Requirement already satisfied: aiohappyeyeballs>=2.3.0 in /usr/local/lib/python3.10/dist-packages (from aiohttp<4.0.0,>=3.8.3->langchain) (2.4.3)\n",
            "Requirement already satisfied: aiosignal>=1.1.2 in /usr/local/lib/python3.10/dist-packages (from aiohttp<4.0.0,>=3.8.3->langchain) (1.3.1)\n",
            "Requirement already satisfied: attrs>=17.3.0 in /usr/local/lib/python3.10/dist-packages (from aiohttp<4.0.0,>=3.8.3->langchain) (24.2.0)\n",
            "Requirement already satisfied: frozenlist>=1.1.1 in /usr/local/lib/python3.10/dist-packages (from aiohttp<4.0.0,>=3.8.3->langchain) (1.4.1)\n",
            "Requirement already satisfied: multidict<7.0,>=4.5 in /usr/local/lib/python3.10/dist-packages (from aiohttp<4.0.0,>=3.8.3->langchain) (6.1.0)\n",
            "Requirement already satisfied: yarl<2.0,>=1.12.0 in /usr/local/lib/python3.10/dist-packages (from aiohttp<4.0.0,>=3.8.3->langchain) (1.13.1)\n",
            "Requirement already satisfied: idna>=2.8 in /usr/local/lib/python3.10/dist-packages (from anyio<5,>=3.5.0->openai) (3.10)\n",
            "Requirement already satisfied: exceptiongroup in /usr/local/lib/python3.10/dist-packages (from anyio<5,>=3.5.0->openai) (1.2.2)\n",
            "Requirement already satisfied: pyproject_hooks in /usr/local/lib/python3.10/dist-packages (from build>=1.0.3->chromadb) (1.2.0)\n",
            "Requirement already satisfied: tomli>=1.1.0 in /usr/local/lib/python3.10/dist-packages (from build>=1.0.3->chromadb) (2.0.1)\n",
            "Collecting marshmallow<4.0.0,>=3.18.0 (from dataclasses-json<0.7,>=0.5.7->langchain-community)\n",
            "  Downloading marshmallow-3.22.0-py3-none-any.whl.metadata (7.2 kB)\n",
            "Collecting typing-inspect<1,>=0.4.0 (from dataclasses-json<0.7,>=0.5.7->langchain-community)\n",
            "  Downloading typing_inspect-0.9.0-py3-none-any.whl.metadata (1.5 kB)\n",
            "Collecting starlette<0.39.0,>=0.37.2 (from fastapi>=0.95.2->chromadb)\n",
            "  Downloading starlette-0.38.6-py3-none-any.whl.metadata (6.0 kB)\n",
            "Requirement already satisfied: certifi in /usr/local/lib/python3.10/dist-packages (from httpx<1,>=0.23.0->openai) (2024.8.30)\n",
            "Collecting httpcore==1.* (from httpx<1,>=0.23.0->openai)\n",
            "  Downloading httpcore-1.0.6-py3-none-any.whl.metadata (21 kB)\n",
            "Collecting h11<0.15,>=0.13 (from httpcore==1.*->httpx<1,>=0.23.0->openai)\n",
            "  Downloading h11-0.14.0-py3-none-any.whl.metadata (8.2 kB)\n",
            "Collecting jsonpointer>=1.9 (from jsonpatch<2.0,>=1.33->langchain_core)\n",
            "  Downloading jsonpointer-3.0.0-py2.py3-none-any.whl.metadata (2.3 kB)\n",
            "Requirement already satisfied: six>=1.9.0 in /usr/local/lib/python3.10/dist-packages (from kubernetes>=28.1.0->chromadb) (1.16.0)\n",
            "Requirement already satisfied: python-dateutil>=2.5.3 in /usr/local/lib/python3.10/dist-packages (from kubernetes>=28.1.0->chromadb) (2.8.2)\n",
            "Requirement already satisfied: google-auth>=1.0.1 in /usr/local/lib/python3.10/dist-packages (from kubernetes>=28.1.0->chromadb) (2.27.0)\n",
            "Requirement already satisfied: websocket-client!=0.40.0,!=0.41.*,!=0.42.*,>=0.32.0 in /usr/local/lib/python3.10/dist-packages (from kubernetes>=28.1.0->chromadb) (1.8.0)\n",
            "Requirement already satisfied: requests-oauthlib in /usr/local/lib/python3.10/dist-packages (from kubernetes>=28.1.0->chromadb) (1.3.1)\n",
            "Requirement already satisfied: oauthlib>=3.2.2 in /usr/local/lib/python3.10/dist-packages (from kubernetes>=28.1.0->chromadb) (3.2.2)\n",
            "Requirement already satisfied: urllib3>=1.24.2 in /usr/local/lib/python3.10/dist-packages (from kubernetes>=28.1.0->chromadb) (2.2.3)\n",
            "Collecting durationpy>=0.7 (from kubernetes>=28.1.0->chromadb)\n",
            "  Downloading durationpy-0.9-py3-none-any.whl.metadata (338 bytes)\n",
            "Collecting tiktoken<1,>=0.7 (from langchain-openai<0.3,>=0.2->langchain_upstage)\n",
            "  Downloading tiktoken-0.8.0-cp310-cp310-manylinux_2_17_x86_64.manylinux2014_x86_64.whl.metadata (6.6 kB)\n",
            "Collecting requests-toolbelt<2.0.0,>=1.0.0 (from langsmith<0.2.0,>=0.1.17->langchain)\n",
            "  Downloading requests_toolbelt-1.0.0-py2.py3-none-any.whl.metadata (14 kB)\n",
            "Collecting coloredlogs (from onnxruntime>=1.14.1->chromadb)\n",
            "  Downloading coloredlogs-15.0.1-py2.py3-none-any.whl.metadata (12 kB)\n",
            "Requirement already satisfied: flatbuffers in /usr/local/lib/python3.10/dist-packages (from onnxruntime>=1.14.1->chromadb) (24.3.25)\n",
            "Requirement already satisfied: protobuf in /usr/local/lib/python3.10/dist-packages (from onnxruntime>=1.14.1->chromadb) (3.20.3)\n",
            "Requirement already satisfied: sympy in /usr/local/lib/python3.10/dist-packages (from onnxruntime>=1.14.1->chromadb) (1.13.3)\n",
            "Requirement already satisfied: deprecated>=1.2.6 in /usr/local/lib/python3.10/dist-packages (from opentelemetry-api>=1.2.0->chromadb) (1.2.14)\n",
            "Requirement already satisfied: importlib-metadata<=8.4.0,>=6.0 in /usr/local/lib/python3.10/dist-packages (from opentelemetry-api>=1.2.0->chromadb) (8.4.0)\n",
            "Requirement already satisfied: googleapis-common-protos~=1.52 in /usr/local/lib/python3.10/dist-packages (from opentelemetry-exporter-otlp-proto-grpc>=1.2.0->chromadb) (1.65.0)\n",
            "Collecting opentelemetry-exporter-otlp-proto-common==1.27.0 (from opentelemetry-exporter-otlp-proto-grpc>=1.2.0->chromadb)\n",
            "  Downloading opentelemetry_exporter_otlp_proto_common-1.27.0-py3-none-any.whl.metadata (1.8 kB)\n",
            "Collecting opentelemetry-proto==1.27.0 (from opentelemetry-exporter-otlp-proto-grpc>=1.2.0->chromadb)\n",
            "  Downloading opentelemetry_proto-1.27.0-py3-none-any.whl.metadata (2.3 kB)\n",
            "Collecting opentelemetry-instrumentation-asgi==0.48b0 (from opentelemetry-instrumentation-fastapi>=0.41b0->chromadb)\n",
            "  Downloading opentelemetry_instrumentation_asgi-0.48b0-py3-none-any.whl.metadata (2.0 kB)\n",
            "Collecting opentelemetry-instrumentation==0.48b0 (from opentelemetry-instrumentation-fastapi>=0.41b0->chromadb)\n",
            "  Downloading opentelemetry_instrumentation-0.48b0-py3-none-any.whl.metadata (6.1 kB)\n",
            "Requirement already satisfied: opentelemetry-semantic-conventions==0.48b0 in /usr/local/lib/python3.10/dist-packages (from opentelemetry-instrumentation-fastapi>=0.41b0->chromadb) (0.48b0)\n",
            "Collecting opentelemetry-util-http==0.48b0 (from opentelemetry-instrumentation-fastapi>=0.41b0->chromadb)\n",
            "  Downloading opentelemetry_util_http-0.48b0-py3-none-any.whl.metadata (2.5 kB)\n",
            "Requirement already satisfied: setuptools>=16.0 in /usr/local/lib/python3.10/dist-packages (from opentelemetry-instrumentation==0.48b0->opentelemetry-instrumentation-fastapi>=0.41b0->chromadb) (71.0.4)\n",
            "Requirement already satisfied: wrapt<2.0.0,>=1.0.0 in /usr/local/lib/python3.10/dist-packages (from opentelemetry-instrumentation==0.48b0->opentelemetry-instrumentation-fastapi>=0.41b0->chromadb) (1.16.0)\n",
            "Collecting asgiref~=3.0 (from opentelemetry-instrumentation-asgi==0.48b0->opentelemetry-instrumentation-fastapi>=0.41b0->chromadb)\n",
            "  Downloading asgiref-3.8.1-py3-none-any.whl.metadata (9.3 kB)\n",
            "Collecting monotonic>=1.5 (from posthog>=2.4.0->chromadb)\n",
            "  Downloading monotonic-1.6-py2.py3-none-any.whl.metadata (1.5 kB)\n",
            "Collecting backoff>=1.10.0 (from posthog>=2.4.0->chromadb)\n",
            "  Downloading backoff-2.2.1-py3-none-any.whl.metadata (14 kB)\n",
            "Requirement already satisfied: annotated-types>=0.6.0 in /usr/local/lib/python3.10/dist-packages (from pydantic<3.0.0,>=2.7.4->langchain) (0.7.0)\n",
            "Requirement already satisfied: pydantic-core==2.23.4 in /usr/local/lib/python3.10/dist-packages (from pydantic<3.0.0,>=2.7.4->langchain) (2.23.4)\n",
            "Collecting python-dotenv>=0.21.0 (from pydantic-settings<3.0.0,>=2.4.0->langchain-community)\n",
            "  Downloading python_dotenv-1.0.1-py3-none-any.whl.metadata (23 kB)\n",
            "Requirement already satisfied: charset-normalizer<4,>=2 in /usr/local/lib/python3.10/dist-packages (from requests<3,>=2->langchain) (3.3.2)\n",
            "Requirement already satisfied: markdown-it-py>=2.2.0 in /usr/local/lib/python3.10/dist-packages (from rich>=10.11.0->chromadb) (3.0.0)\n",
            "Requirement already satisfied: pygments<3.0.0,>=2.13.0 in /usr/local/lib/python3.10/dist-packages (from rich>=10.11.0->chromadb) (2.18.0)\n",
            "Requirement already satisfied: greenlet!=0.4.17 in /usr/local/lib/python3.10/dist-packages (from SQLAlchemy<3,>=1.4->langchain) (3.1.1)\n",
            "Requirement already satisfied: huggingface-hub<1.0,>=0.16.4 in /usr/local/lib/python3.10/dist-packages (from tokenizers<0.20.0,>=0.19.1->langchain_upstage) (0.24.7)\n",
            "Requirement already satisfied: click>=8.0.0 in /usr/local/lib/python3.10/dist-packages (from typer>=0.9.0->chromadb) (8.1.7)\n",
            "Requirement already satisfied: shellingham>=1.3.0 in /usr/local/lib/python3.10/dist-packages (from typer>=0.9.0->chromadb) (1.5.4)\n",
            "Collecting httptools>=0.5.0 (from uvicorn[standard]>=0.18.3->chromadb)\n",
            "  Downloading httptools-0.6.1-cp310-cp310-manylinux_2_5_x86_64.manylinux1_x86_64.manylinux_2_17_x86_64.manylinux2014_x86_64.whl.metadata (3.6 kB)\n",
            "Collecting uvloop!=0.15.0,!=0.15.1,>=0.14.0 (from uvicorn[standard]>=0.18.3->chromadb)\n",
            "  Downloading uvloop-0.20.0-cp310-cp310-manylinux_2_17_x86_64.manylinux2014_x86_64.whl.metadata (4.9 kB)\n",
            "Collecting watchfiles>=0.13 (from uvicorn[standard]>=0.18.3->chromadb)\n",
            "  Downloading watchfiles-0.24.0-cp310-cp310-manylinux_2_17_x86_64.manylinux2014_x86_64.whl.metadata (4.9 kB)\n",
            "Collecting websockets>=10.4 (from uvicorn[standard]>=0.18.3->chromadb)\n",
            "  Downloading websockets-13.1-cp310-cp310-manylinux_2_5_x86_64.manylinux1_x86_64.manylinux_2_17_x86_64.manylinux2014_x86_64.whl.metadata (6.8 kB)\n",
            "Requirement already satisfied: cachetools<6.0,>=2.0.0 in /usr/local/lib/python3.10/dist-packages (from google-auth>=1.0.1->kubernetes>=28.1.0->chromadb) (5.5.0)\n",
            "Requirement already satisfied: pyasn1-modules>=0.2.1 in /usr/local/lib/python3.10/dist-packages (from google-auth>=1.0.1->kubernetes>=28.1.0->chromadb) (0.4.1)\n",
            "Requirement already satisfied: rsa<5,>=3.1.4 in /usr/local/lib/python3.10/dist-packages (from google-auth>=1.0.1->kubernetes>=28.1.0->chromadb) (4.9)\n",
            "Requirement already satisfied: filelock in /usr/local/lib/python3.10/dist-packages (from huggingface-hub<1.0,>=0.16.4->tokenizers<0.20.0,>=0.19.1->langchain_upstage) (3.16.1)\n",
            "Requirement already satisfied: fsspec>=2023.5.0 in /usr/local/lib/python3.10/dist-packages (from huggingface-hub<1.0,>=0.16.4->tokenizers<0.20.0,>=0.19.1->langchain_upstage) (2024.6.1)\n",
            "Requirement already satisfied: zipp>=0.5 in /usr/local/lib/python3.10/dist-packages (from importlib-metadata<=8.4.0,>=6.0->opentelemetry-api>=1.2.0->chromadb) (3.20.2)\n",
            "Requirement already satisfied: mdurl~=0.1 in /usr/local/lib/python3.10/dist-packages (from markdown-it-py>=2.2.0->rich>=10.11.0->chromadb) (0.1.2)\n",
            "Requirement already satisfied: regex>=2022.1.18 in /usr/local/lib/python3.10/dist-packages (from tiktoken<1,>=0.7->langchain-openai<0.3,>=0.2->langchain_upstage) (2024.9.11)\n",
            "Collecting mypy-extensions>=0.3.0 (from typing-inspect<1,>=0.4.0->dataclasses-json<0.7,>=0.5.7->langchain-community)\n",
            "  Downloading mypy_extensions-1.0.0-py3-none-any.whl.metadata (1.1 kB)\n",
            "Collecting humanfriendly>=9.1 (from coloredlogs->onnxruntime>=1.14.1->chromadb)\n",
            "  Downloading humanfriendly-10.0-py2.py3-none-any.whl.metadata (9.2 kB)\n",
            "Requirement already satisfied: mpmath<1.4,>=1.1.0 in /usr/local/lib/python3.10/dist-packages (from sympy->onnxruntime>=1.14.1->chromadb) (1.3.0)\n",
            "Requirement already satisfied: pyasn1<0.7.0,>=0.4.6 in /usr/local/lib/python3.10/dist-packages (from pyasn1-modules>=0.2.1->google-auth>=1.0.1->kubernetes>=28.1.0->chromadb) (0.6.1)\n",
            "Downloading langchain-0.3.2-py3-none-any.whl (1.0 MB)\n",
            "\u001b[2K   \u001b[90m━━━━━━━━━━━━━━━━━━━━━━━━━━━━━━━━━━━━━━━━\u001b[0m \u001b[32m1.0/1.0 MB\u001b[0m \u001b[31m32.6 MB/s\u001b[0m eta \u001b[36m0:00:00\u001b[0m\n",
            "\u001b[?25hDownloading openai-1.51.0-py3-none-any.whl (383 kB)\n",
            "\u001b[2K   \u001b[90m━━━━━━━━━━━━━━━━━━━━━━━━━━━━━━━━━━━━━━━━\u001b[0m \u001b[32m383.5/383.5 kB\u001b[0m \u001b[31m30.2 MB/s\u001b[0m eta \u001b[36m0:00:00\u001b[0m\n",
            "\u001b[?25hDownloading langchain_upstage-0.3.0-py3-none-any.whl (26 kB)\n",
            "Downloading langchain_core-0.3.9-py3-none-any.whl (401 kB)\n",
            "\u001b[2K   \u001b[90m━━━━━━━━━━━━━━━━━━━━━━━━━━━━━━━━━━━━━━━━\u001b[0m \u001b[32m401.8/401.8 kB\u001b[0m \u001b[31m33.1 MB/s\u001b[0m eta \u001b[36m0:00:00\u001b[0m\n",
            "\u001b[?25hDownloading langchain_community-0.3.1-py3-none-any.whl (2.4 MB)\n",
            "\u001b[2K   \u001b[90m━━━━━━━━━━━━━━━━━━━━━━━━━━━━━━━━━━━━━━━━\u001b[0m \u001b[32m2.4/2.4 MB\u001b[0m \u001b[31m75.3 MB/s\u001b[0m eta \u001b[36m0:00:00\u001b[0m\n",
            "\u001b[?25hDownloading chromadb-0.5.11-py3-none-any.whl (603 kB)\n",
            "\u001b[2K   \u001b[90m━━━━━━━━━━━━━━━━━━━━━━━━━━━━━━━━━━━━━━━━\u001b[0m \u001b[32m604.0/604.0 kB\u001b[0m \u001b[31m35.4 MB/s\u001b[0m eta \u001b[36m0:00:00\u001b[0m\n",
            "\u001b[?25hDownloading chroma_hnswlib-0.7.6-cp310-cp310-manylinux_2_17_x86_64.manylinux2014_x86_64.whl (2.4 MB)\n",
            "\u001b[2K   \u001b[90m━━━━━━━━━━━━━━━━━━━━━━━━━━━━━━━━━━━━━━━━\u001b[0m \u001b[32m2.4/2.4 MB\u001b[0m \u001b[31m83.4 MB/s\u001b[0m eta \u001b[36m0:00:00\u001b[0m\n",
            "\u001b[?25hDownloading bcrypt-4.2.0-cp39-abi3-manylinux_2_28_x86_64.whl (273 kB)\n",
            "\u001b[2K   \u001b[90m━━━━━━━━━━━━━━━━━━━━━━━━━━━━━━━━━━━━━━━━\u001b[0m \u001b[32m273.8/273.8 kB\u001b[0m \u001b[31m22.0 MB/s\u001b[0m eta \u001b[36m0:00:00\u001b[0m\n",
            "\u001b[?25hDownloading dataclasses_json-0.6.7-py3-none-any.whl (28 kB)\n",
            "Downloading fastapi-0.115.0-py3-none-any.whl (94 kB)\n",
            "\u001b[2K   \u001b[90m━━━━━━━━━━━━━━━━━━━━━━━━━━━━━━━━━━━━━━━━\u001b[0m \u001b[32m94.6/94.6 kB\u001b[0m \u001b[31m8.7 MB/s\u001b[0m eta \u001b[36m0:00:00\u001b[0m\n",
            "\u001b[?25hDownloading httpx-0.27.2-py3-none-any.whl (76 kB)\n",
            "\u001b[2K   \u001b[90m━━━━━━━━━━━━━━━━━━━━━━━━━━━━━━━━━━━━━━━━\u001b[0m \u001b[32m76.4/76.4 kB\u001b[0m \u001b[31m7.8 MB/s\u001b[0m eta \u001b[36m0:00:00\u001b[0m\n",
            "\u001b[?25hDownloading httpcore-1.0.6-py3-none-any.whl (78 kB)\n",
            "\u001b[2K   \u001b[90m━━━━━━━━━━━━━━━━━━━━━━━━━━━━━━━━━━━━━━━━\u001b[0m \u001b[32m78.0/78.0 kB\u001b[0m \u001b[31m7.4 MB/s\u001b[0m eta \u001b[36m0:00:00\u001b[0m\n",
            "\u001b[?25hDownloading jiter-0.5.0-cp310-cp310-manylinux_2_17_x86_64.manylinux2014_x86_64.whl (318 kB)\n",
            "\u001b[2K   \u001b[90m━━━━━━━━━━━━━━━━━━━━━━━━━━━━━━━━━━━━━━━━\u001b[0m \u001b[32m318.9/318.9 kB\u001b[0m \u001b[31m24.6 MB/s\u001b[0m eta \u001b[36m0:00:00\u001b[0m\n",
            "\u001b[?25hDownloading jsonpatch-1.33-py2.py3-none-any.whl (12 kB)\n",
            "Downloading kubernetes-31.0.0-py2.py3-none-any.whl (1.9 MB)\n",
            "\u001b[2K   \u001b[90m━━━━━━━━━━━━━━━━━━━━━━━━━━━━━━━━━━━━━━━━\u001b[0m \u001b[32m1.9/1.9 MB\u001b[0m \u001b[31m53.9 MB/s\u001b[0m eta \u001b[36m0:00:00\u001b[0m\n",
            "\u001b[?25hDownloading langchain_openai-0.2.2-py3-none-any.whl (49 kB)\n",
            "\u001b[2K   \u001b[90m━━━━━━━━━━━━━━━━━━━━━━━━━━━━━━━━━━━━━━━━\u001b[0m \u001b[32m49.7/49.7 kB\u001b[0m \u001b[31m4.2 MB/s\u001b[0m eta \u001b[36m0:00:00\u001b[0m\n",
            "\u001b[?25hDownloading langchain_text_splitters-0.3.0-py3-none-any.whl (25 kB)\n",
            "Downloading langsmith-0.1.131-py3-none-any.whl (294 kB)\n",
            "\u001b[2K   \u001b[90m━━━━━━━━━━━━━━━━━━━━━━━━━━━━━━━━━━━━━━━━\u001b[0m \u001b[32m294.6/294.6 kB\u001b[0m \u001b[31m22.1 MB/s\u001b[0m eta \u001b[36m0:00:00\u001b[0m\n",
            "\u001b[?25hDownloading mmh3-5.0.1-cp310-cp310-manylinux_2_5_x86_64.manylinux1_x86_64.manylinux_2_17_x86_64.manylinux2014_x86_64.whl (93 kB)\n",
            "\u001b[2K   \u001b[90m━━━━━━━━━━━━━━━━━━━━━━━━━━━━━━━━━━━━━━━━\u001b[0m \u001b[32m93.2/93.2 kB\u001b[0m \u001b[31m9.6 MB/s\u001b[0m eta \u001b[36m0:00:00\u001b[0m\n",
            "\u001b[?25hDownloading onnxruntime-1.19.2-cp310-cp310-manylinux_2_27_x86_64.manylinux_2_28_x86_64.whl (13.2 MB)\n",
            "\u001b[2K   \u001b[90m━━━━━━━━━━━━━━━━━━━━━━━━━━━━━━━━━━━━━━━━\u001b[0m \u001b[32m13.2/13.2 MB\u001b[0m \u001b[31m57.7 MB/s\u001b[0m eta \u001b[36m0:00:00\u001b[0m\n",
            "\u001b[?25hDownloading opentelemetry_exporter_otlp_proto_grpc-1.27.0-py3-none-any.whl (18 kB)\n",
            "Downloading opentelemetry_exporter_otlp_proto_common-1.27.0-py3-none-any.whl (17 kB)\n",
            "Downloading opentelemetry_proto-1.27.0-py3-none-any.whl (52 kB)\n",
            "\u001b[2K   \u001b[90m━━━━━━━━━━━━━━━━━━━━━━━━━━━━━━━━━━━━━━━━\u001b[0m \u001b[32m52.5/52.5 kB\u001b[0m \u001b[31m4.2 MB/s\u001b[0m eta \u001b[36m0:00:00\u001b[0m\n",
            "\u001b[?25hDownloading opentelemetry_instrumentation_fastapi-0.48b0-py3-none-any.whl (11 kB)\n",
            "Downloading opentelemetry_instrumentation-0.48b0-py3-none-any.whl (29 kB)\n",
            "Downloading opentelemetry_instrumentation_asgi-0.48b0-py3-none-any.whl (15 kB)\n",
            "Downloading opentelemetry_util_http-0.48b0-py3-none-any.whl (6.9 kB)\n",
            "Downloading orjson-3.10.7-cp310-cp310-manylinux_2_17_x86_64.manylinux2014_x86_64.whl (141 kB)\n",
            "\u001b[2K   \u001b[90m━━━━━━━━━━━━━━━━━━━━━━━━━━━━━━━━━━━━━━━━\u001b[0m \u001b[32m141.9/141.9 kB\u001b[0m \u001b[31m14.3 MB/s\u001b[0m eta \u001b[36m0:00:00\u001b[0m\n",
            "\u001b[?25hDownloading overrides-7.7.0-py3-none-any.whl (17 kB)\n",
            "Downloading posthog-3.7.0-py2.py3-none-any.whl (54 kB)\n",
            "\u001b[2K   \u001b[90m━━━━━━━━━━━━━━━━━━━━━━━━━━━━━━━━━━━━━━━━\u001b[0m \u001b[32m54.4/54.4 kB\u001b[0m \u001b[31m5.9 MB/s\u001b[0m eta \u001b[36m0:00:00\u001b[0m\n",
            "\u001b[?25hDownloading pydantic_settings-2.5.2-py3-none-any.whl (26 kB)\n",
            "Downloading pypdf-4.3.1-py3-none-any.whl (295 kB)\n",
            "\u001b[2K   \u001b[90m━━━━━━━━━━━━━━━━━━━━━━━━━━━━━━━━━━━━━━━━\u001b[0m \u001b[32m295.8/295.8 kB\u001b[0m \u001b[31m24.6 MB/s\u001b[0m eta \u001b[36m0:00:00\u001b[0m\n",
            "\u001b[?25hDownloading tenacity-8.5.0-py3-none-any.whl (28 kB)\n",
            "Downloading uvicorn-0.31.0-py3-none-any.whl (63 kB)\n",
            "\u001b[2K   \u001b[90m━━━━━━━━━━━━━━━━━━━━━━━━━━━━━━━━━━━━━━━━\u001b[0m \u001b[32m63.7/63.7 kB\u001b[0m \u001b[31m6.8 MB/s\u001b[0m eta \u001b[36m0:00:00\u001b[0m\n",
            "\u001b[?25hDownloading backoff-2.2.1-py3-none-any.whl (15 kB)\n",
            "Downloading durationpy-0.9-py3-none-any.whl (3.5 kB)\n",
            "Downloading h11-0.14.0-py3-none-any.whl (58 kB)\n",
            "\u001b[2K   \u001b[90m━━━━━━━━━━━━━━━━━━━━━━━━━━━━━━━━━━━━━━━━\u001b[0m \u001b[32m58.3/58.3 kB\u001b[0m \u001b[31m6.0 MB/s\u001b[0m eta \u001b[36m0:00:00\u001b[0m\n",
            "\u001b[?25hDownloading httptools-0.6.1-cp310-cp310-manylinux_2_5_x86_64.manylinux1_x86_64.manylinux_2_17_x86_64.manylinux2014_x86_64.whl (341 kB)\n",
            "\u001b[2K   \u001b[90m━━━━━━━━━━━━━━━━━━━━━━━━━━━━━━━━━━━━━━━━\u001b[0m \u001b[32m341.4/341.4 kB\u001b[0m \u001b[31m28.9 MB/s\u001b[0m eta \u001b[36m0:00:00\u001b[0m\n",
            "\u001b[?25hDownloading jsonpointer-3.0.0-py2.py3-none-any.whl (7.6 kB)\n",
            "Downloading marshmallow-3.22.0-py3-none-any.whl (49 kB)\n",
            "\u001b[2K   \u001b[90m━━━━━━━━━━━━━━━━━━━━━━━━━━━━━━━━━━━━━━━━\u001b[0m \u001b[32m49.3/49.3 kB\u001b[0m \u001b[31m5.0 MB/s\u001b[0m eta \u001b[36m0:00:00\u001b[0m\n",
            "\u001b[?25hDownloading monotonic-1.6-py2.py3-none-any.whl (8.2 kB)\n",
            "Downloading python_dotenv-1.0.1-py3-none-any.whl (19 kB)\n",
            "Downloading requests_toolbelt-1.0.0-py2.py3-none-any.whl (54 kB)\n",
            "\u001b[2K   \u001b[90m━━━━━━━━━━━━━━━━━━━━━━━━━━━━━━━━━━━━━━━━\u001b[0m \u001b[32m54.5/54.5 kB\u001b[0m \u001b[31m5.2 MB/s\u001b[0m eta \u001b[36m0:00:00\u001b[0m\n",
            "\u001b[?25hDownloading starlette-0.38.6-py3-none-any.whl (71 kB)\n",
            "\u001b[2K   \u001b[90m━━━━━━━━━━━━━━━━━━━━━━━━━━━━━━━━━━━━━━━━\u001b[0m \u001b[32m71.5/71.5 kB\u001b[0m \u001b[31m8.0 MB/s\u001b[0m eta \u001b[36m0:00:00\u001b[0m\n",
            "\u001b[?25hDownloading tiktoken-0.8.0-cp310-cp310-manylinux_2_17_x86_64.manylinux2014_x86_64.whl (1.2 MB)\n",
            "\u001b[2K   \u001b[90m━━━━━━━━━━━━━━━━━━━━━━━━━━━━━━━━━━━━━━━━\u001b[0m \u001b[32m1.2/1.2 MB\u001b[0m \u001b[31m54.0 MB/s\u001b[0m eta \u001b[36m0:00:00\u001b[0m\n",
            "\u001b[?25hDownloading typing_inspect-0.9.0-py3-none-any.whl (8.8 kB)\n",
            "Downloading uvloop-0.20.0-cp310-cp310-manylinux_2_17_x86_64.manylinux2014_x86_64.whl (3.4 MB)\n",
            "\u001b[2K   \u001b[90m━━━━━━━━━━━━━━━━━━━━━━━━━━━━━━━━━━━━━━━━\u001b[0m \u001b[32m3.4/3.4 MB\u001b[0m \u001b[31m55.9 MB/s\u001b[0m eta \u001b[36m0:00:00\u001b[0m\n",
            "\u001b[?25hDownloading watchfiles-0.24.0-cp310-cp310-manylinux_2_17_x86_64.manylinux2014_x86_64.whl (425 kB)\n",
            "\u001b[2K   \u001b[90m━━━━━━━━━━━━━━━━━━━━━━━━━━━━━━━━━━━━━━━━\u001b[0m \u001b[32m425.7/425.7 kB\u001b[0m \u001b[31m29.7 MB/s\u001b[0m eta \u001b[36m0:00:00\u001b[0m\n",
            "\u001b[?25hDownloading websockets-13.1-cp310-cp310-manylinux_2_5_x86_64.manylinux1_x86_64.manylinux_2_17_x86_64.manylinux2014_x86_64.whl (164 kB)\n",
            "\u001b[2K   \u001b[90m━━━━━━━━━━━━━━━━━━━━━━━━━━━━━━━━━━━━━━━━\u001b[0m \u001b[32m164.1/164.1 kB\u001b[0m \u001b[31m14.5 MB/s\u001b[0m eta \u001b[36m0:00:00\u001b[0m\n",
            "\u001b[?25hDownloading coloredlogs-15.0.1-py2.py3-none-any.whl (46 kB)\n",
            "\u001b[2K   \u001b[90m━━━━━━━━━━━━━━━━━━━━━━━━━━━━━━━━━━━━━━━━\u001b[0m \u001b[32m46.0/46.0 kB\u001b[0m \u001b[31m4.7 MB/s\u001b[0m eta \u001b[36m0:00:00\u001b[0m\n",
            "\u001b[?25hDownloading asgiref-3.8.1-py3-none-any.whl (23 kB)\n",
            "Downloading humanfriendly-10.0-py2.py3-none-any.whl (86 kB)\n",
            "\u001b[2K   \u001b[90m━━━━━━━━━━━━━━━━━━━━━━━━━━━━━━━━━━━━━━━━\u001b[0m \u001b[32m86.8/86.8 kB\u001b[0m \u001b[31m9.2 MB/s\u001b[0m eta \u001b[36m0:00:00\u001b[0m\n",
            "\u001b[?25hDownloading mypy_extensions-1.0.0-py3-none-any.whl (4.7 kB)\n",
            "Building wheels for collected packages: pypika\n",
            "  Building wheel for pypika (pyproject.toml) ... \u001b[?25l\u001b[?25hdone\n",
            "  Created wheel for pypika: filename=PyPika-0.48.9-py2.py3-none-any.whl size=53723 sha256=9b0e06fb117fec0332dc856d7aba52e4c7274f9a51240f7674abd5a99e555bf1\n",
            "  Stored in directory: /root/.cache/pip/wheels/e1/26/51/d0bffb3d2fd82256676d7ad3003faea3bd6dddc9577af665f4\n",
            "Successfully built pypika\n",
            "Installing collected packages: pypika, monotonic, durationpy, websockets, uvloop, tenacity, python-dotenv, pypdf, overrides, orjson, opentelemetry-util-http, opentelemetry-proto, mypy-extensions, mmh3, marshmallow, jsonpointer, jiter, humanfriendly, httptools, h11, chroma-hnswlib, bcrypt, backoff, asgiref, watchfiles, uvicorn, typing-inspect, tiktoken, starlette, requests-toolbelt, posthog, opentelemetry-exporter-otlp-proto-common, jsonpatch, httpcore, coloredlogs, pydantic-settings, opentelemetry-instrumentation, onnxruntime, kubernetes, httpx, fastapi, dataclasses-json, opentelemetry-instrumentation-asgi, openai, langsmith, opentelemetry-instrumentation-fastapi, opentelemetry-exporter-otlp-proto-grpc, langchain_core, langchain-text-splitters, langchain-openai, chromadb, langchain_upstage, langchain, langchain-community\n",
            "  Attempting uninstall: tenacity\n",
            "    Found existing installation: tenacity 9.0.0\n",
            "    Uninstalling tenacity-9.0.0:\n",
            "      Successfully uninstalled tenacity-9.0.0\n",
            "Successfully installed asgiref-3.8.1 backoff-2.2.1 bcrypt-4.2.0 chroma-hnswlib-0.7.6 chromadb-0.5.11 coloredlogs-15.0.1 dataclasses-json-0.6.7 durationpy-0.9 fastapi-0.115.0 h11-0.14.0 httpcore-1.0.6 httptools-0.6.1 httpx-0.27.2 humanfriendly-10.0 jiter-0.5.0 jsonpatch-1.33 jsonpointer-3.0.0 kubernetes-31.0.0 langchain-0.3.2 langchain-community-0.3.1 langchain-openai-0.2.2 langchain-text-splitters-0.3.0 langchain_core-0.3.9 langchain_upstage-0.3.0 langsmith-0.1.131 marshmallow-3.22.0 mmh3-5.0.1 monotonic-1.6 mypy-extensions-1.0.0 onnxruntime-1.19.2 openai-1.51.0 opentelemetry-exporter-otlp-proto-common-1.27.0 opentelemetry-exporter-otlp-proto-grpc-1.27.0 opentelemetry-instrumentation-0.48b0 opentelemetry-instrumentation-asgi-0.48b0 opentelemetry-instrumentation-fastapi-0.48b0 opentelemetry-proto-1.27.0 opentelemetry-util-http-0.48b0 orjson-3.10.7 overrides-7.7.0 posthog-3.7.0 pydantic-settings-2.5.2 pypdf-4.3.1 pypika-0.48.9 python-dotenv-1.0.1 requests-toolbelt-1.0.0 starlette-0.38.6 tenacity-8.5.0 tiktoken-0.8.0 typing-inspect-0.9.0 uvicorn-0.31.0 uvloop-0.20.0 watchfiles-0.24.0 websockets-13.1\n"
          ]
        }
      ],
      "source": [
        "!pip install langchain openai langchain_upstage langchain_core langchain-community chromadb"
      ]
    },
    {
      "cell_type": "markdown",
      "metadata": {
        "id": "dwfapr8pTIn9"
      },
      "source": [
        "## B. API 키 및 환경 설정"
      ]
    },
    {
      "cell_type": "code",
      "execution_count": 3,
      "metadata": {
        "colab": {
          "base_uri": "https://localhost:8080/"
        },
        "id": "Uxgm2vkBTlTH",
        "outputId": "04a9311c-812c-43d2-a79d-07e3ed967e99"
      },
      "outputs": [
        {
          "name": "stdout",
          "output_type": "stream",
          "text": [
            "Enter your Upstage API key: ··········\n"
          ]
        }
      ],
      "source": [
        "import os\n",
        "import getpass\n",
        "\n",
        "# API key 입력\n",
        "if \"UPSTAGE_API_KEY\" not in os.environ:\n",
        "    os.environ[\"UPSTAGE_API_KEY\"] = getpass.getpass(\"Enter your Upstage API key: \")\n",
        "\n",
        "# 한글 텍스트를 다루기 위해 인코딩 환경 변수 설정\n",
        "os.environ[\"PYTHONIOENCODING\"] = \"utf-8\""
      ]
    },
    {
      "cell_type": "markdown",
      "metadata": {
        "id": "TzRbCabCTyYh"
      },
      "source": [
        "## C. 데이터 로드\n",
        "구글 드라이브 환경(마운트 필요)"
      ]
    },
    {
      "cell_type": "code",
      "execution_count": 2,
      "metadata": {
        "colab": {
          "base_uri": "https://localhost:8080/"
        },
        "id": "2_f02pxItqF3",
        "outputId": "ce91973c-1fb9-4a07-80da-60cbf60c0ee1"
      },
      "outputs": [
        {
          "name": "stdout",
          "output_type": "stream",
          "text": [
            "Mounted at /content/drive\n"
          ]
        }
      ],
      "source": [
        "from google.colab import drive\n",
        "drive.mount('/content/drive')"
      ]
    },
    {
      "cell_type": "code",
      "execution_count": null,
      "metadata": {
        "id": "FnWrV-qecjl8"
      },
      "outputs": [],
      "source": [
        "import pandas as pd\n",
        "from langchain_upstage import UpstageEmbeddings\n",
        "\n",
        "# 법률 용어, 위험 조항 사례 데이터\n",
        "terms_df = pd.read_csv(\"/content/drive/MyDrive/Colab Notebooks/LLM/web_terms.csv\")\n",
        "clauses_df = pd.read_csv(\"/content/drive/MyDrive/Colab Notebooks/LLM/조항.csv\")\n",
        "\n",
        "# 임대차 계약 건(clauseField:5)에 대한 데이터 필터링\n",
        "data = clauses_df.copy()[clauses_df.clauseField == 5]\n",
        "\n",
        "# 법률 PDF 파일 경로 지정\n",
        "pdf_files = {\n",
        "    \"근로기준법\": \"/content/drive/MyDrive/Colab Notebooks/LLM/근로기준법(법률)(제18176호)(20211119).pdf\",\n",
        "    \"대리점거래의 공정화에 관한 법률\": \"/content/drive/MyDrive/Colab Notebooks/LLM/대리점거래의 공정화에 관한 법률(법률)(제20239호)(20240807).pdf\",\n",
        "    \"독점규제 및 공정거래에 관한 법률\": \"/content/drive/MyDrive/Colab Notebooks/LLM/독점규제 및 공정거래에 관한 법률(법률)(제20239호)(20240807).pdf\",\n",
        "    \"민법\":\"/content/drive/MyDrive/Colab Notebooks/LLM/민법(법률)(제19409호)(20240517).pdf\",\n",
        "    \"상가건물 임대차보호법\":\"/content/drive/MyDrive/Colab Notebooks/LLM/상가건물 임대차보호법(법률)(제18675호)(20220104).pdf\",\n",
        "    \"상법\":\"/content/drive/MyDrive/Colab Notebooks/LLM/상법(법률)(제17764호)(20201229).pdf\",\n",
        "    \"소비자기본법\":\"/content/drive/MyDrive/Colab Notebooks/LLM/소비자기본법(법률)(제20301호)(20240814).pdf\",\n",
        "    \"약관의 규제에 관한 법률\":\"/content/drive/MyDrive/Colab Notebooks/LLM/약관의 규제에 관한 법률(법률)(제20239호)(20240807).pdf\",\n",
        "    \"여신전문금융업법\":\"/content/drive/MyDrive/Colab Notebooks/LLM/여신전문금융업법(법률)(제19260호)(20230622).pdf\"\n",
        "}\n"
      ]
    },
    {
      "cell_type": "markdown",
      "metadata": {
        "id": "EM8jc3-MgzjC"
      },
      "source": [
        "## D. Vector Stroe 생성 및 로드"
      ]
    },
    {
      "cell_type": "markdown",
      "metadata": {
        "id": "CP-O44MDhLuc"
      },
      "source": [
        "### 법률 데이터 DB"
      ]
    },
    {
      "cell_type": "code",
      "execution_count": null,
      "metadata": {
        "colab": {
          "base_uri": "https://localhost:8080/",
          "height": 277,
          "referenced_widgets": [
            "fba5245dfbd44d83a17d0105f00c5004",
            "eb610ca172dc4cf4948320e5335a342a",
            "71979b8c4d054dfcb84e58d4507efac7",
            "d47f861d1a1b4e918571071fa81a2a44",
            "c8753208cb3d4e9a88be725edcb16582",
            "6208911d0e2647d888d0895c9821dc8b",
            "9ca5695178ff418cb495362a75d44183",
            "378db183da8b4350a9d2468aa660121a",
            "a49356d927e34e0cba12a8285b0dafbc",
            "cb069ecd051a4038a728c3aef4101942",
            "c52678b6c7474862877a7ca21d9cb1bc",
            "3655a129e7d643fd9c1f52efad5a920e",
            "d97c2ed53fd84dccbe6b7bdb54c62dbe",
            "a8ad2c67fb0b40be8ee2685b90bdb587",
            "5e546887e58f4f299bfc34e29f9c1ddf",
            "a926272f698545c4aecc6b139d8b9571",
            "1507c6e904bd4ff4980ea9f81194b45b",
            "4cba448db19e488c81f7764dcb9361aa",
            "8e55b4bb7bd240c788952ada696770ef",
            "a2ed3d0dd71a454aabc1b63d13f9d5e2",
            "728a1521936c4481b2f0dfbd8edad7da",
            "710aee4da3904e2f8f76156da66fbfce",
            "f83f8d180167450592820dfb878e09ac",
            "f974b5e0a00744c09fafee35a69d78ec",
            "30c50679df4d49e0a6716670d434ac70",
            "cf18c392ce7a4b85919a7db989812d21",
            "06a90a59a05541bfacaf8462e547d33a",
            "16af10e347aa4e9b8321c8357af5c46f",
            "f28b824a7b3646919a60b773f4b5cbd0",
            "516bb728ea0e4a35a5c0ee397d8df800",
            "2927bcf15c8342c9bc7a4b2ac2024f52",
            "62757a2bb8d34366ba8f1baf0db4c142",
            "191b68493a76491db389d618810f705c"
          ]
        },
        "id": "gqpQJLSuhHE4",
        "outputId": "c85724b9-5aeb-4573-c21e-f1e0714cfc13"
      },
      "outputs": [
        {
          "name": "stderr",
          "output_type": "stream",
          "text": [
            "/usr/local/lib/python3.10/dist-packages/huggingface_hub/utils/_token.py:89: UserWarning: \n",
            "The secret `HF_TOKEN` does not exist in your Colab secrets.\n",
            "To authenticate with the Hugging Face Hub, create a token in your settings tab (https://huggingface.co/settings/tokens), set it as secret in your Google Colab and restart your session.\n",
            "You will be able to reuse this secret in all of your notebooks.\n",
            "Please note that authentication is recommended but still optional to access public models or datasets.\n",
            "  warnings.warn(\n"
          ]
        },
        {
          "data": {
            "application/vnd.jupyter.widget-view+json": {
              "model_id": "fba5245dfbd44d83a17d0105f00c5004",
              "version_major": 2,
              "version_minor": 0
            },
            "text/plain": [
              "tokenizer_config.json:   0%|          | 0.00/1.41k [00:00<?, ?B/s]"
            ]
          },
          "metadata": {},
          "output_type": "display_data"
        },
        {
          "data": {
            "application/vnd.jupyter.widget-view+json": {
              "model_id": "3655a129e7d643fd9c1f52efad5a920e",
              "version_major": 2,
              "version_minor": 0
            },
            "text/plain": [
              "tokenizer.model:   0%|          | 0.00/493k [00:00<?, ?B/s]"
            ]
          },
          "metadata": {},
          "output_type": "display_data"
        },
        {
          "data": {
            "application/vnd.jupyter.widget-view+json": {
              "model_id": "f83f8d180167450592820dfb878e09ac",
              "version_major": 2,
              "version_minor": 0
            },
            "text/plain": [
              "tokenizer.json:   0%|          | 0.00/1.80M [00:00<?, ?B/s]"
            ]
          },
          "metadata": {},
          "output_type": "display_data"
        },
        {
          "name": "stderr",
          "output_type": "stream",
          "text": [
            "<ipython-input-5-8fbd15094996>:17: LangChainDeprecationWarning: The class `Chroma` was deprecated in LangChain 0.2.9 and will be removed in 1.0. An updated version of the class exists in the :class:`~langchain-chroma package and should be used instead. To use it run `pip install -U :class:`~langchain-chroma` and import as `from :class:`~langchain_chroma import Chroma``.\n",
            "  db = Chroma(embedding_function=embeddings, persist_directory=persist_directory)\n"
          ]
        }
      ],
      "source": [
        "from transformers import AutoTokenizer\n",
        "from langchain.text_splitter import TokenTextSplitter\n",
        "from langchain_upstage import UpstageEmbeddings\n",
        "from langchain_upstage import UpstageDocumentParseLoader\n",
        "from langchain.vectorstores import Chroma\n",
        "\n",
        "# 임베딩 모델\n",
        "embeddings = UpstageEmbeddings(model=\"solar-embedding-1-large-passage\")\n",
        "\n",
        "# 토크나이저 및 텍스트 스플리터 로드\n",
        "solar_tokenizer = AutoTokenizer.from_pretrained(\"upstage/SOLAR-10.7B-Instruct-v1.0\")\n",
        "token_splitter = TokenTextSplitter.from_huggingface_tokenizer(\n",
        "    solar_tokenizer, chunk_size=1000, chunk_overlap=200)\n",
        "\n",
        "# ChormaDB 생성\n",
        "persist_directory = \"/content/drive/MyDrive/Colab Notebooks/LLM/chroma_db\" # 저장경로\n",
        "db = Chroma(embedding_function=embeddings, persist_directory=persist_directory)\n",
        "\n",
        "## 법률 Document 저장(최초 1회; 재실행X)\n",
        "# docs = []\n",
        "# for file, path in pdf_files.items():\n",
        "#   loader = UpstageDocumentParseLoader(path, ocr=False, coordinates = False) # 경로에 있는 pdf 파일 파싱\n",
        "#   doc = loader.load()\n",
        "#   doc[0].metadata = {\"source\":file} # 메타데이터에 파일명(법률명) 저장\n",
        "#   docs.append(doc[0])\n",
        "\n",
        "# splits = token_splitter.split_documents(docs) # 텍스트 분할\n",
        "# db.add_documents(splits) # 분할된 텍스트 DB에 추가\n",
        "# db.persist() # DB를 경로에 저장\n",
        "\n",
        "# 벡터스토어 로드\n",
        "db = Chroma(embedding_function=embeddings, persist_directory=persist_directory)\n",
        "# VectorStoreRetriever 객체 초기화\n",
        "retriever = db.as_retriever()"
      ]
    },
    {
      "cell_type": "markdown",
      "metadata": {
        "id": "FAOl2HXDjPDj"
      },
      "source": [
        "### 위험 조항 사례 데이터"
      ]
    },
    {
      "cell_type": "code",
      "execution_count": null,
      "metadata": {
        "id": "jincwOaoueiR"
      },
      "outputs": [],
      "source": [
        "os.chmod(persist_directory, 0o777)"
      ]
    },
    {
      "cell_type": "code",
      "execution_count": null,
      "metadata": {
        "colab": {
          "base_uri": "https://localhost:8080/"
        },
        "id": "PUdxBGS4jn1D",
        "outputId": "af4cb01b-d1fd-4e6e-bceb-22ba237ac311"
      },
      "outputs": [
        {
          "name": "stderr",
          "output_type": "stream",
          "text": [
            "<ipython-input-7-95f4bd6b8ad2>:18: LangChainDeprecationWarning: Since Chroma 0.4.x the manual persistence method is no longer supported as docs are automatically persisted.\n",
            "  vector_store.persist() # DB를 경로에 저장\n"
          ]
        }
      ],
      "source": [
        "from langchain.schema import Document\n",
        "\n",
        "# 위험 조항 Document 저장(최초 1회; 재실행X)\n",
        "documents = []\n",
        "for index, row in data.iterrows():\n",
        "    sentence = row['clauseArticle'].strip()\n",
        "    documents.append(Document(page_content=sentence, metadata={\"illdcssBasiss\": row['illdcssBasiss'],\n",
        "                                                                 \"relateLaword\": row['relateLaword']}))\n",
        "      # content: 위험조항(clauseArticle)/ metadata: 전문가 해석(illdcssBasiss), 법적 근거(relateLaword)\n",
        "\n",
        "# ChormaDB 생성\n",
        "persist_directory = \"/content/drive/MyDrive/Colab Notebooks/LLM/chroma_data\" # 저장경로\n",
        "vector_store = Chroma.from_documents(documents=documents,\n",
        "                                     embedding=embeddings,\n",
        "                                     persist_directory=persist_directory\n",
        "                                     )\n",
        "\n",
        "vector_store.persist() # DB를 경로에 저장\n",
        "\n",
        "# 벡터스토어 로드\n",
        "vector_store = Chroma(\n",
        "    persist_directory=persist_directory,\n",
        "    embedding_function=embeddings\n",
        "    )"
      ]
    },
    {
      "cell_type": "markdown",
      "metadata": {
        "id": "V3XHDgvZloVK"
      },
      "source": [
        "# 1. OCR"
      ]
    },
    {
      "cell_type": "code",
      "execution_count": 10,
      "metadata": {
        "id": "0akrZZsP3sgR"
      },
      "outputs": [],
      "source": [
        "import re\n",
        "from langchain_upstage import ChatUpstage\n",
        "from langchain_core.messages import HumanMessage\n",
        "from flask import Flask, request, jsonify\n",
        "import requests\n",
        "\n",
        "import os\n",
        "import getpass"
      ]
    },
    {
      "cell_type": "code",
      "execution_count": 6,
      "metadata": {
        "id": "F3LTXHkW4ELL"
      },
      "outputs": [],
      "source": [
        "# OCR API 호출을 통한 문서 텍스트 추출 함수\n",
        "def extract_text_from_document(UPSTAGE_API_KEY, filename):\n",
        "    url = \"https://api.upstage.ai/v1/document-ai/ocr\"\n",
        "    headers = {\"Authorization\": f\"Bearer {UPSTAGE_API_KEY}\"}\n",
        "    files = {\"document\": open(filename, \"rb\")}\n",
        "    response = requests.post(url, headers=headers, files=files)\n",
        "    return response.json()"
      ]
    },
    {
      "cell_type": "code",
      "execution_count": 11,
      "metadata": {
        "id": "s9iyMbmX4V6V"
      },
      "outputs": [],
      "source": [
        "# OCR 함수 호출\n",
        "filename = \"/content/drive/MyDrive/24-2 FALL LLM/부동산 계약서_예시_1.png\"\n",
        "\n",
        "# 환경 변수에서 API 키를 가져옴\n",
        "api_key = os.environ[\"UPSTAGE_API_KEY\"]\n",
        "\n",
        "# OCR 함수 호출 시 api_key 전달\n",
        "ocr_result = extract_text_from_document(api_key, filename)"
      ]
    },
    {
      "cell_type": "code",
      "execution_count": 12,
      "metadata": {
        "id": "qEvlhc4c4bam"
      },
      "outputs": [],
      "source": [
        "# ocr_result에서 text만 분리하여 ocr_text로 변경하는 함수\n",
        "def extract_ocr_text(ocr_result):\n",
        "    # ocr_result의 'pages' 필드에서 각 페이지의 'text' 필드만 추출\n",
        "    ocr_text = \" \".join(page['text'] for page in ocr_result['pages'])\n",
        "    return ocr_text\n",
        "\n",
        "# ocr_text 추출\n",
        "ocr_text = extract_ocr_text(ocr_result)"
      ]
    },
    {
      "cell_type": "code",
      "execution_count": 13,
      "metadata": {
        "id": "ak5rDbJx4eXK"
      },
      "outputs": [],
      "source": [
        "# OCR 텍스트에서 '제 x 조' 패턴으로 시작하고, 문장부호로 끝나는 조항을 인식하여 따로 저장하는 함수\n",
        "def extract_clauses_with_order(ocr_text):\n",
        "    clauses = []\n",
        "    processed_text = []\n",
        "\n",
        "    # \"제 x 조\" 패턴으로 시작하고, 마침표로 끝나는 조항을 모두 인식\n",
        "    clause_pattern = re.compile(r'(제\\s?\\d+\\s?조[^.!?]*[.!?])', re.DOTALL)  # 조항이 중간에 줄바꿈이 있어도 인식되도록 DOTALL 플래그 사용\n",
        "    matches = clause_pattern.finditer(ocr_text)\n",
        "\n",
        "    last_index = 0\n",
        "    for match in matches:\n",
        "        start, end = match.span()\n",
        "        # 조항 전의 텍스트를 처리\n",
        "        pre_text = ocr_text[last_index:start].strip()\n",
        "        if pre_text:\n",
        "            processed_text.append(pre_text)\n",
        "        # 조항을 인식하고 저장\n",
        "        clauses.append(match.group().strip())\n",
        "        processed_text.append(f\"조항: {match.group().strip()}\")\n",
        "        last_index = end\n",
        "\n",
        "    # 남은 텍스트 처리\n",
        "    remaining_text = ocr_text[last_index:].strip()\n",
        "    if remaining_text:\n",
        "        processed_text.append(remaining_text)\n",
        "\n",
        "    return clauses, processed_text\n",
        "\n",
        "# 불필요한 줄바꿈을 제거하는 함수\n",
        "def clean_text(text):\n",
        "    return text.replace('\\n', ' ').strip()\n",
        "\n",
        "# 나머지 텍스트에 대해서 조항이 아닌 부분은 전부 '해당없음'으로 처리하는 함수\n",
        "def classify_remaining_text(remaining_text_list):\n",
        "    results = []\n",
        "\n",
        "    # 남은 텍스트를 줄바꿈 기준으로 나누어 처리\n",
        "    for line in remaining_text_list:\n",
        "        if line.startswith(\"조항:\"):\n",
        "            results.append(line)  # 조항은 그대로 처리\n",
        "        else:\n",
        "            # 남은 텍스트의 각 줄에 대해 '해당없음' 처리\n",
        "            lines = line.split(\"\\n\")\n",
        "            for l in lines:\n",
        "                l = l.strip()\n",
        "                if l:\n",
        "                    results.append(f\"해당없음: {clean_text(l)}\")\n",
        "\n",
        "    return results\n",
        "\n",
        "# 최종적으로 조항을 분리하고 나머지를 처리하는 함수, 결과를 딕셔너리로 저장\n",
        "def process_ocr_text(ocr_text):\n",
        "    # 조항을 추출하고 순서를 유지하여 텍스트를 처리\n",
        "    clauses, remaining_text_list = extract_clauses_with_order(ocr_text)\n",
        "\n",
        "    # 나머지 텍스트에 대해 전부 '해당없음' 처리\n",
        "    classified_remaining_text = classify_remaining_text(remaining_text_list)\n",
        "\n",
        "    # 딕셔너리에 저장 (조항과 해당없음)\n",
        "    final_dict = {}\n",
        "    for idx, entry in enumerate(classified_remaining_text):\n",
        "        if entry.startswith(\"조항:\"):\n",
        "            final_dict[f\"item_{idx+1}\"] = {\"type\": \"조항\", \"content\": entry.split(\": \", 1)[1]}\n",
        "        else:\n",
        "            final_dict[f\"item_{idx+1}\"] = {\"type\": \"해당없음\", \"content\": entry.split(\": \", 1)[1]}\n",
        "\n",
        "    return final_dict\n",
        "\n",
        "final_classified_text = process_ocr_text(ocr_text)"
      ]
    },
    {
      "cell_type": "markdown",
      "metadata": {
        "id": "oXdBQkImlwSy"
      },
      "source": [
        "# 2. Detecton"
      ]
    },
    {
      "cell_type": "code",
      "execution_count": null,
      "metadata": {
        "id": "QnupL5nDl1YP"
      },
      "outputs": [],
      "source": [
        "import numpy as np\n",
        "from sklearn.metrics.pairwise import cosine_similarity\n",
        "\n",
        "# 조항이 입력되면 해당 조항이 위험 조항인지 아닌지 분류하는 함수\n",
        "# 임계치 이상의 유사도를 가지는 조항이 위험 조항 DB에 있을 때\n",
        "# 그 유사 조항과 전문가 해석, 법적 근거를 출력한다\n",
        "def detection(clause,threshold = 0.8):\n",
        "  # 주어진 조항과 가장 유사한 위험 조항 문서를 불러옴\n",
        "  results = vector_store.similarity_search(clause,k=1)[0]\n",
        "  sim_clause = results.page_content # 유사 조항\n",
        "  query_vector = embeddings.embed_query(clause) # 주어진 조항의 벡터\n",
        "  stored_vector = embeddings.embed_query(sim_clause) # 유사 조항의 벡터\n",
        "\n",
        "  # 두 조항 간의 코사인 유사도\n",
        "  cosine_sim = cosine_similarity([query_vector], [stored_vector])\n",
        "\n",
        "  # 유사한 조항일 경우에만 위험 조항으로 감지하고 정보를 출력함\n",
        "  if cosine_sim > threshold:\n",
        "      judgment = results.metadata['illdcssBasiss']\n",
        "      reason = results.metadata['relateLaword']\n",
        "      return sim_clause, judgment, reason, 1\n",
        "  else: return None, None, None, 0"
      ]
    },
    {
      "cell_type": "markdown",
      "metadata": {
        "id": "8_YWN8Ttn9TS"
      },
      "source": [
        "# 3. Explain"
      ]
    },
    {
      "cell_type": "markdown",
      "metadata": {
        "id": "V1E53lxapTSE"
      },
      "source": [
        "## A. 용어 추출 및 설명"
      ]
    },
    {
      "cell_type": "code",
      "execution_count": null,
      "metadata": {
        "id": "PmHZ1g1qpZZ4"
      },
      "outputs": [],
      "source": [
        "# 해당 조항에서 용어 DB에 존재하는 용어를 추출\n",
        "def extract_legal_terms(clause, terms_df):\n",
        "    terms_in_clause = []\n",
        "    for term in terms_df['term']:\n",
        "        if term in clause:\n",
        "            terms_in_clause.append(term)\n",
        "    return terms_in_clause\n",
        "\n",
        "# 용어 리스트에 대한 설명을 짝짓는 딕셔너리 생성\n",
        "def legal_explanations(terms, terms_df):\n",
        "    explanations = {}\n",
        "    for term in terms:\n",
        "        explanation = terms_df[terms_df['term'] == term]['definition'].values\n",
        "        if explanation:\n",
        "            explanations[term] = explanation[0]\n",
        "    return explanations"
      ]
    },
    {
      "cell_type": "markdown",
      "metadata": {
        "id": "ZXGkgwB3pbkA"
      },
      "source": [
        "## B. 조항 설명"
      ]
    },
    {
      "cell_type": "markdown",
      "metadata": {
        "id": "Vk1bEXX1pjsu"
      },
      "source": [
        "### 프롬프트"
      ]
    },
    {
      "cell_type": "code",
      "execution_count": null,
      "metadata": {
        "id": "hzfNjF0-plXe"
      },
      "outputs": [],
      "source": [
        "from langchain.prompts import PromptTemplate\n",
        "\n",
        "# 조항 설명 프롬프트\n",
        "## 위험 조항이 아닐 때 (standard zero-shot prompt)\n",
        "explanation_template0 = \"\"\"\n",
        "  주어진 조항: \"{clause}\"\n",
        "\n",
        "  용어 설명: {term_explanations}\n",
        "\n",
        "  용어 설명을 이용해서, 주어진 조항을 일반인도 이해하기 쉽도록 설명해.\n",
        "  \"\"\"\n",
        "explanation_prompt0 = PromptTemplate(template=explanation_template0, input_variables=[\"clause\", \"term_explanations\"])\n",
        "\n",
        "## 위험 조항일 때 (standard 2-shot prompt)\n",
        "explanation_template1 = \"\"\"\n",
        "  주어진 조항은 불리한 조항으로 감지된 조항이다.\n",
        "  유사 과거 조항에 대한 해석을 바탕으로 주어진 조항이 불합리한 이유를 쉽게 설명해.\n",
        "\n",
        "  <예시1>\n",
        "  주어진 조항: \"제10항\\n입주자는 계약기간을 종료하기전 다음 세입자를 선정해서 임대를 인계해야하고 다음 입주자의 임대보증금을 회사에 입금한 후 환불받는다.\"\n",
        "\n",
        "  용어 설명: '계': '상부 상조 친목 공동이익 등을 목적으로 만들어진 한국의 전통 협동조직으로 모임',\n",
        " '계약': '법률효과 발생을 목적으로 한 두 개의 의사표시가 합치함으로써 성립하는 하나의 법률행위이다',\n",
        " '기간': '일정한 시점에서 다른 시점까지의 시간적인 간격을 의미한다 기간은 그것만으로는 법률요건이 성립되지 않으나 기간의 만료에 의하여 중요한 법률효과를 발생시키는 경우가 많다',\n",
        " '보증금': '보증금이란 미래에 발생할 수 있는 서로간의 불이익을 막고자 임차인이 미리 임대인에게 지급하는 금전을 의미합니다 예를 들면 전세계약의 전세금은 보증금에 해당합니다',\n",
        " '임대': '임대란 계약의 당사자 가운데 한쪽이 상대편에게 부동산 등 물건을 사용하게 하고 상대편은 이에 대하여 일정한 임차료를 지급할 것을 약속하는 계약입니다 계약을 통해서 빌려 주는 사람은 임대인이 되고 빌리는 사람은 임차인이 됩니다',\n",
        " '세입자': '세입자는 일정한 세를 내고 남의 건물이나 방 따위를 빌려 쓰는 사람을 말합니다'\n",
        "\n",
        "  유사 과거 조항: \"제2항\\n입주자는 계약기간을 종료하기전 다음 세입자를 선정하여 임대를 인계하고 다음 입주자의 임대보증금을 회사에 입금후 환불받는다.\"\n",
        "\n",
        "  유사 과거 조항에 대한 해석: 해당 약관조항은 법률의 규정에 의한 고객의 해지권을 배제하거나 그 행사를 제한하는 조항이며, 계약의 해지로 인한 고객의 원상회복의무를 상당한 이유없이 과중하게 부담시키거나 원상회복청구권을 부당하게 포기하도록 하는 조항이다.\n",
        "\n",
        "  답변: 주택의 입주자는 본 계약이 끝나기 끝나기 전에, 새로운 세입자를 구해서 그 사람에게 주택을 넘겨야 합니다. 새로운 사람이 보증금을 회사에 보내면 자신이 냈던 보증금을 돌려 받는다는 뜻입니다.\n",
        "  즉 명시된 계약기간이 끝나기 전에 새로운 계약자를 구해야 하고, 보증금을 돌려받는 시점은 새로운 계약자가 보증금을 지불 한 이후라는 점입니다. 이는 세입자 입장에서 불합리한 조항으로 적용될 수 있으며, 여태까지의 인수인계 과정에 차질이 없었는지 확인해 볼 필요가 있습니다.\n",
        "\n",
        "  <예시2>\n",
        "  주어진 조항: \"제8조(임대차 등기 등)\\n제1항 임차인은 주택임대차보호법에 따라 임대주택에 관한 대항력을 갖추기로 한다. 그리고 갑에게 임대주택에 대한 임차권등기, 전세권등기 또는 (근)저당권등기 등을 요구할 수 없다.\"\n",
        "\n",
        "  용어 설명: '대항력': '이미 유효하게 발생하고 있는 법률관계를 제자에 대하여 주장할 수 있는 법률상의 효력을 말한다',\n",
        " '임대차': '임대인이 임차인에게 어떤 물건을 사용수익하게 할 것을 약정하고 임차인이 이에 대하여 차임을 지급할 것을 약정함으로써 성립하는 계약민법 제조제조',\n",
        " '저당권': '채권자가 채무자나 또는 제자가 채무담보로서 제공한 부동산 또는 부동산물권을 인도받지 않고 다만 관념상으로만 지배하여 채무의 변제가 없을 경우 그 목적물로부터 우선변제를 받을 수 있는 권리',\n",
        " '전세권': '전세금을 지급하고 타인의 부동산을 일정기간 그 용도에 따라 사용 수익한 후 그 부동산을 반환하고 전세금을 다시 돌려받는 권리민법 제조',\n",
        " '등기': '등기란 법정절차에 따라서 부동산의 권리관계를 등기부에 등록하는 행위 또는 기재 그 자체를 의미합니다',\n",
        " '임대': '임대란 계약의 당사자 가운데 한쪽이 상대편에게 부동산 등 물건을 사용하게 하고 상대편은 이에 대하여 일정한 임차료를 지급할 것을 약속하는 계약입니다 계약을 통해서 빌려 주는 사람은 임대인이 되고 빌리는 사람은 임차인이 됩니다',\n",
        " '임대주택': '임대주택이란 국가 또는 민간 건설업체가 건축하여 주민에게 임대하는 주택입니다',\n",
        " '임차': '임차란 돈을 내고 타인의 건물을 빌리는 것을 의미합니다',\n",
        " '임차권': '임차권이란 임대차 계약에서 빌려 쓰는 사람이 그 건물을 사용하고 이익을 얻을 수 있는 권리를 의미합니다',\n",
        " '임차권등기': '임차권등기란 임대차 계약이 종료됐으나 보증금을 돌려 받지 못한 상태에서 이사를 가야 할 경우에 대항력을 유지하기 위해 설정하는 등기를 의미합니다',\n",
        " '임차인': '임차인이란 임대차 계약에서 돈을 내고 건물을 빌려 쓰는 사람입니다',\n",
        " '주택임대차보호법': '주택임대차보호법이란 국민 주거생활의 안정을 보장함을 목적으로 주거용 건물의 임대차에 관하여 민법에 대한 특례를 규정한 법률입니다',\n",
        " '전세': '전세란 주택이나 건물을 가진 사람에게 일정한 금액을 맡기고 그 주택이나 집을 일정 기간 동안 빌리는 것을 말합니다'\n",
        "\n",
        "  유사 과거 조항: \"제16조(임대차 등기 등)\\n제1항 임차인은 주택임대차보호법에 따라 임대주택에 관한 대항력을 갖추기로 하며, 갑에게 임대주택에 관한 임차권등기, 전세권등기, 또는 (근)저당권등기를 요구할 수 없다.\"\n",
        "\n",
        "  유사 과거 조항에 대한 해석: 특별한 사유도 없이 일방적으로 임차인이 임대인에게 임대주택에 관한 임대차등기 등을 요구할 수 없도록 규정하고 있는 바, 이는 민법 제621조에서 규정하고 있는 임차인의 법률상 권리를 상당한 이유 없이 배제하고 있다.\n",
        "\n",
        "  답변: 임차인은 임대주택에 대해 주택임대차보호법에 따른 대항력을 갖추기로 되어 있지만, 본 계약에서는 임차인이 임대인에게 임차권등기, 전세권등기, 또는 (근)저당권등기를 요구할 수 없다고 명시하고 있습니다. 즉, 임차인은 특별한 사유 없이도 임대인에게 이러한 등기를 요구할 수 없다는 뜻입니다.\n",
        "  이 조항은 임차인의 권리를 상당한 이유 없이 배제하는 것으로 볼 수 있습니다. 민법에서는 임차인이 필요할 때 임차권등기를 통해 자신의 권리를 보호할 수 있도록 하고 있는데, 이 조항은 그 권리를 제한하고 있기 때문입니다. 임차권등기나 전세권등기는 임차인이 주택의 소유권 이전이나 임대인의 재정 문제 등으로부터 안전을 확보할 수 있는 중요한 수단인데, 이 조항은 그런 보호를 받지 못하도록 막고 있습니다.\n",
        "  따라서, 임차인 입장에서는 이 조항이 불합리할 수 있다는 점을 인지하고, 계약서를 주의 깊게 검토하고 협의해볼 필요가 있습니다.\n",
        "\n",
        "  <질문>\n",
        "  주어진 조항: \"{clause}\"\n",
        "\n",
        "  용어 설명: {term_explanations}\n",
        "\n",
        "  유사 과거 조항: \"{corr_clause}\"\n",
        "\n",
        "  유사 과거 조항에 대한 해석: {judgment}\n",
        "\n",
        "  답변:\n",
        "  \"\"\"\n",
        "explanation_prompt1 = PromptTemplate(template=explanation_template1, input_variables=[\"clause\", \"term_explanations\",\"corr_ex\",\"judgment\"])"
      ]
    },
    {
      "cell_type": "markdown",
      "metadata": {
        "id": "7a9yfmx5so-r"
      },
      "source": [
        "### LLM Chain with chat api"
      ]
    },
    {
      "cell_type": "code",
      "execution_count": null,
      "metadata": {
        "id": "hLUJW6jSr05Y"
      },
      "outputs": [],
      "source": [
        "from langchain_upstage import ChatUpstage\n",
        "\n",
        "# LangChain의 PromptTemplate과 LLM을 결합하여 chain 생성\n",
        "model = 'solar-1-mini-chat'\n",
        "\n",
        "def explanation(clause):\n",
        "  # 위험 조항 감지\n",
        "  sim_clause, judgment, reason, detect = detection(clause)\n",
        "  # 법률 용어 설명 저장\n",
        "  legal_terms = extract_legal_terms(clause, terms_df)\n",
        "  term_explanations = legal_explanations(legal_terms, terms_df)\n",
        "\n",
        "  llm = ChatUpstage(model=model)\n",
        "  if not detect: # 위험 조항이 아닐 때\n",
        "    chain = explanation_prompt0|llm\n",
        "    explan = chain.invoke({\"clause\": clause, \"term_explanations\":term_explanations}).content\n",
        "  else: # 위험 조항일 때\n",
        "    chain = explanation_prompt1|llm\n",
        "    explan = chain.invoke({\"clause\": clause, \"term_explanations\":term_explanations, \"corr_clause\": sim_clause, \"judgment\":judgment}).content\n",
        "\n",
        "  if reason is None:\n",
        "    return explan, None\n",
        "  else:\n",
        "    reason = reason.split('<sep>')\n",
        "    # RAG를 이용한 법적 근거 추적\n",
        "    reasons = []\n",
        "    for r in reason:\n",
        "      context_docs = retriever.invoke(r)\n",
        "      r = context_docs[0].metadata['source'] + \" \" + r\n",
        "      reasons.append(r)\n",
        "    return explan, reasons\n"
      ]
    },
    {
      "cell_type": "markdown",
      "metadata": {
        "id": "CY-aLlBEv1rX"
      },
      "source": [
        "## C. 법적 근거 추적\n",
        "데이터에서 제시하는 법률 조항은 어느 법률에서 온 것인지 출처를 알 수 없음.\n",
        "법률 데이터가 저장된 retriever를 이용해 참조한 문서의 법률 이름을 가져오도록 함"
      ]
    },
    {
      "cell_type": "code",
      "execution_count": null,
      "metadata": {
        "colab": {
          "base_uri": "https://localhost:8080/",
          "height": 240
        },
        "id": "7hwSi14fv6dG",
        "outputId": "c649de2c-24e8-4cc4-fc1b-b0f5f4570795"
      },
      "outputs": [
        {
          "data": {
            "text/html": [
              "<div>\n",
              "<style scoped>\n",
              "    .dataframe tbody tr th:only-of-type {\n",
              "        vertical-align: middle;\n",
              "    }\n",
              "\n",
              "    .dataframe tbody tr th {\n",
              "        vertical-align: top;\n",
              "    }\n",
              "\n",
              "    .dataframe thead th {\n",
              "        text-align: right;\n",
              "    }\n",
              "</style>\n",
              "<table border=\"1\" class=\"dataframe\">\n",
              "  <thead>\n",
              "    <tr style=\"text-align: right;\">\n",
              "      <th></th>\n",
              "      <th>relateLaword</th>\n",
              "    </tr>\n",
              "  </thead>\n",
              "  <tbody>\n",
              "    <tr>\n",
              "      <th>14</th>\n",
              "      <td>제8조(손해배상액의 예정) 고객에게 부당하게 과중한 지연 손해금 등의 손해배상 의무...</td>\n",
              "    </tr>\n",
              "    <tr>\n",
              "      <th>33</th>\n",
              "      <td>제8조(손해배상액의 예정) 고객에게 부당하게 과중한 지연 손해금 등의 손해배상 의무...</td>\n",
              "    </tr>\n",
              "    <tr>\n",
              "      <th>50</th>\n",
              "      <td>제7조(면책조항의 금지) 계약 당사자의 책임에 관하여 정하고 있는 약관의 내용 중 ...</td>\n",
              "    </tr>\n",
              "    <tr>\n",
              "      <th>68</th>\n",
              "      <td>제6조(일반원칙)\\n ② 약관의 내용 중 다음 각 호의 어느 하나에 해당하는 내용을...</td>\n",
              "    </tr>\n",
              "    <tr>\n",
              "      <th>87</th>\n",
              "      <td>제6조(일반원칙) \\n② 약관의 내용 중 다음 각 호의 어느 하나에 해당하는 내용을...</td>\n",
              "    </tr>\n",
              "  </tbody>\n",
              "</table>\n",
              "</div><br><label><b>dtype:</b> object</label>"
            ],
            "text/plain": [
              "14    제8조(손해배상액의 예정) 고객에게 부당하게 과중한 지연 손해금 등의 손해배상 의무...\n",
              "33    제8조(손해배상액의 예정) 고객에게 부당하게 과중한 지연 손해금 등의 손해배상 의무...\n",
              "50    제7조(면책조항의 금지) 계약 당사자의 책임에 관하여 정하고 있는 약관의 내용 중 ...\n",
              "68    제6조(일반원칙)\\n ② 약관의 내용 중 다음 각 호의 어느 하나에 해당하는 내용을...\n",
              "87    제6조(일반원칙) \\n② 약관의 내용 중 다음 각 호의 어느 하나에 해당하는 내용을...\n",
              "Name: relateLaword, dtype: object"
            ]
          },
          "execution_count": 21,
          "metadata": {},
          "output_type": "execute_result"
        }
      ],
      "source": [
        "data.relateLaword.head()"
      ]
    },
    {
      "cell_type": "markdown",
      "metadata": {
        "id": "QYC4ugR_yxvh"
      },
      "source": [
        "### 예시"
      ]
    },
    {
      "cell_type": "code",
      "execution_count": null,
      "metadata": {
        "colab": {
          "base_uri": "https://localhost:8080/",
          "height": 35
        },
        "id": "Ru770G9oyiMl",
        "outputId": "9478da37-38c4-433b-b9e6-62a349eb1a76"
      },
      "outputs": [
        {
          "data": {
            "application/vnd.google.colaboratory.intrinsic+json": {
              "type": "string"
            },
            "text/plain": [
              "'약관의 규제에 관한 법률'"
            ]
          },
          "execution_count": 22,
          "metadata": {},
          "output_type": "execute_result"
        }
      ],
      "source": [
        "context_docs = retriever.invoke('제8조(손해배상액의 예정) 고객에게 부당하게 과중한..')\n",
        "context_docs[0].metadata['source'] # 참조한 문서의 메타데이터"
      ]
    },
    {
      "cell_type": "code",
      "execution_count": null,
      "metadata": {
        "id": "7y7-saNw0tt1"
      },
      "outputs": [],
      "source": [
        "e, r = explanation(\"제8조(임대차 등기 등)\\n제1항 임차인은 주택임대차보호법에 따라 임대주택에 관한 대항력을 갖추기로 한다. 그리고 갑에게 임대주택에 대한 임차권등기, 전세권등기 또는 (근)저당권등기 등을 요구할 수 없다.\")"
      ]
    },
    {
      "cell_type": "code",
      "execution_count": null,
      "metadata": {
        "colab": {
          "base_uri": "https://localhost:8080/"
        },
        "id": "eyTPgKue163V",
        "outputId": "7c30400d-a319-458b-9de9-c0e2af66e294"
      },
      "outputs": [
        {
          "data": {
            "text/plain": [
              "['약관의 규제에 관한 법률 제11조(고객의 권익 보호) \\n고객의 권익에 관하여 정하고 있는 약관의 내용 중 다음 각 호의 어느 하나에 해당하는 내용을 정하고 있는 조항은 무효로 한다.\\n1. 법률에 따른 고객의 항변권, 상계권 등의 권리를 상당한 이유 없이 배제하거나 제한하는 조항']"
            ]
          },
          "execution_count": 38,
          "metadata": {},
          "output_type": "execute_result"
        }
      ],
      "source": [
        "r"
      ]
    }
  ],
  "metadata": {
    "colab": {
      "provenance": []
    },
    "kernelspec": {
      "display_name": "Python 3",
      "name": "python3"
    },
    "language_info": {
      "name": "python"
    },
    "widgets": {
      "application/vnd.jupyter.widget-state+json": {
        "06a90a59a05541bfacaf8462e547d33a": {
          "model_module": "@jupyter-widgets/base",
          "model_module_version": "1.2.0",
          "model_name": "LayoutModel",
          "state": {
            "_model_module": "@jupyter-widgets/base",
            "_model_module_version": "1.2.0",
            "_model_name": "LayoutModel",
            "_view_count": null,
            "_view_module": "@jupyter-widgets/base",
            "_view_module_version": "1.2.0",
            "_view_name": "LayoutView",
            "align_content": null,
            "align_items": null,
            "align_self": null,
            "border": null,
            "bottom": null,
            "display": null,
            "flex": null,
            "flex_flow": null,
            "grid_area": null,
            "grid_auto_columns": null,
            "grid_auto_flow": null,
            "grid_auto_rows": null,
            "grid_column": null,
            "grid_gap": null,
            "grid_row": null,
            "grid_template_areas": null,
            "grid_template_columns": null,
            "grid_template_rows": null,
            "height": null,
            "justify_content": null,
            "justify_items": null,
            "left": null,
            "margin": null,
            "max_height": null,
            "max_width": null,
            "min_height": null,
            "min_width": null,
            "object_fit": null,
            "object_position": null,
            "order": null,
            "overflow": null,
            "overflow_x": null,
            "overflow_y": null,
            "padding": null,
            "right": null,
            "top": null,
            "visibility": null,
            "width": null
          }
        },
        "1507c6e904bd4ff4980ea9f81194b45b": {
          "model_module": "@jupyter-widgets/base",
          "model_module_version": "1.2.0",
          "model_name": "LayoutModel",
          "state": {
            "_model_module": "@jupyter-widgets/base",
            "_model_module_version": "1.2.0",
            "_model_name": "LayoutModel",
            "_view_count": null,
            "_view_module": "@jupyter-widgets/base",
            "_view_module_version": "1.2.0",
            "_view_name": "LayoutView",
            "align_content": null,
            "align_items": null,
            "align_self": null,
            "border": null,
            "bottom": null,
            "display": null,
            "flex": null,
            "flex_flow": null,
            "grid_area": null,
            "grid_auto_columns": null,
            "grid_auto_flow": null,
            "grid_auto_rows": null,
            "grid_column": null,
            "grid_gap": null,
            "grid_row": null,
            "grid_template_areas": null,
            "grid_template_columns": null,
            "grid_template_rows": null,
            "height": null,
            "justify_content": null,
            "justify_items": null,
            "left": null,
            "margin": null,
            "max_height": null,
            "max_width": null,
            "min_height": null,
            "min_width": null,
            "object_fit": null,
            "object_position": null,
            "order": null,
            "overflow": null,
            "overflow_x": null,
            "overflow_y": null,
            "padding": null,
            "right": null,
            "top": null,
            "visibility": null,
            "width": null
          }
        },
        "16af10e347aa4e9b8321c8357af5c46f": {
          "model_module": "@jupyter-widgets/base",
          "model_module_version": "1.2.0",
          "model_name": "LayoutModel",
          "state": {
            "_model_module": "@jupyter-widgets/base",
            "_model_module_version": "1.2.0",
            "_model_name": "LayoutModel",
            "_view_count": null,
            "_view_module": "@jupyter-widgets/base",
            "_view_module_version": "1.2.0",
            "_view_name": "LayoutView",
            "align_content": null,
            "align_items": null,
            "align_self": null,
            "border": null,
            "bottom": null,
            "display": null,
            "flex": null,
            "flex_flow": null,
            "grid_area": null,
            "grid_auto_columns": null,
            "grid_auto_flow": null,
            "grid_auto_rows": null,
            "grid_column": null,
            "grid_gap": null,
            "grid_row": null,
            "grid_template_areas": null,
            "grid_template_columns": null,
            "grid_template_rows": null,
            "height": null,
            "justify_content": null,
            "justify_items": null,
            "left": null,
            "margin": null,
            "max_height": null,
            "max_width": null,
            "min_height": null,
            "min_width": null,
            "object_fit": null,
            "object_position": null,
            "order": null,
            "overflow": null,
            "overflow_x": null,
            "overflow_y": null,
            "padding": null,
            "right": null,
            "top": null,
            "visibility": null,
            "width": null
          }
        },
        "191b68493a76491db389d618810f705c": {
          "model_module": "@jupyter-widgets/controls",
          "model_module_version": "1.5.0",
          "model_name": "DescriptionStyleModel",
          "state": {
            "_model_module": "@jupyter-widgets/controls",
            "_model_module_version": "1.5.0",
            "_model_name": "DescriptionStyleModel",
            "_view_count": null,
            "_view_module": "@jupyter-widgets/base",
            "_view_module_version": "1.2.0",
            "_view_name": "StyleView",
            "description_width": ""
          }
        },
        "2927bcf15c8342c9bc7a4b2ac2024f52": {
          "model_module": "@jupyter-widgets/controls",
          "model_module_version": "1.5.0",
          "model_name": "ProgressStyleModel",
          "state": {
            "_model_module": "@jupyter-widgets/controls",
            "_model_module_version": "1.5.0",
            "_model_name": "ProgressStyleModel",
            "_view_count": null,
            "_view_module": "@jupyter-widgets/base",
            "_view_module_version": "1.2.0",
            "_view_name": "StyleView",
            "bar_color": null,
            "description_width": ""
          }
        },
        "30c50679df4d49e0a6716670d434ac70": {
          "model_module": "@jupyter-widgets/controls",
          "model_module_version": "1.5.0",
          "model_name": "FloatProgressModel",
          "state": {
            "_dom_classes": [],
            "_model_module": "@jupyter-widgets/controls",
            "_model_module_version": "1.5.0",
            "_model_name": "FloatProgressModel",
            "_view_count": null,
            "_view_module": "@jupyter-widgets/controls",
            "_view_module_version": "1.5.0",
            "_view_name": "ProgressView",
            "bar_style": "success",
            "description": "",
            "description_tooltip": null,
            "layout": "IPY_MODEL_516bb728ea0e4a35a5c0ee397d8df800",
            "max": 1795303,
            "min": 0,
            "orientation": "horizontal",
            "style": "IPY_MODEL_2927bcf15c8342c9bc7a4b2ac2024f52",
            "value": 1795303
          }
        },
        "3655a129e7d643fd9c1f52efad5a920e": {
          "model_module": "@jupyter-widgets/controls",
          "model_module_version": "1.5.0",
          "model_name": "HBoxModel",
          "state": {
            "_dom_classes": [],
            "_model_module": "@jupyter-widgets/controls",
            "_model_module_version": "1.5.0",
            "_model_name": "HBoxModel",
            "_view_count": null,
            "_view_module": "@jupyter-widgets/controls",
            "_view_module_version": "1.5.0",
            "_view_name": "HBoxView",
            "box_style": "",
            "children": [
              "IPY_MODEL_d97c2ed53fd84dccbe6b7bdb54c62dbe",
              "IPY_MODEL_a8ad2c67fb0b40be8ee2685b90bdb587",
              "IPY_MODEL_5e546887e58f4f299bfc34e29f9c1ddf"
            ],
            "layout": "IPY_MODEL_a926272f698545c4aecc6b139d8b9571"
          }
        },
        "378db183da8b4350a9d2468aa660121a": {
          "model_module": "@jupyter-widgets/base",
          "model_module_version": "1.2.0",
          "model_name": "LayoutModel",
          "state": {
            "_model_module": "@jupyter-widgets/base",
            "_model_module_version": "1.2.0",
            "_model_name": "LayoutModel",
            "_view_count": null,
            "_view_module": "@jupyter-widgets/base",
            "_view_module_version": "1.2.0",
            "_view_name": "LayoutView",
            "align_content": null,
            "align_items": null,
            "align_self": null,
            "border": null,
            "bottom": null,
            "display": null,
            "flex": null,
            "flex_flow": null,
            "grid_area": null,
            "grid_auto_columns": null,
            "grid_auto_flow": null,
            "grid_auto_rows": null,
            "grid_column": null,
            "grid_gap": null,
            "grid_row": null,
            "grid_template_areas": null,
            "grid_template_columns": null,
            "grid_template_rows": null,
            "height": null,
            "justify_content": null,
            "justify_items": null,
            "left": null,
            "margin": null,
            "max_height": null,
            "max_width": null,
            "min_height": null,
            "min_width": null,
            "object_fit": null,
            "object_position": null,
            "order": null,
            "overflow": null,
            "overflow_x": null,
            "overflow_y": null,
            "padding": null,
            "right": null,
            "top": null,
            "visibility": null,
            "width": null
          }
        },
        "4cba448db19e488c81f7764dcb9361aa": {
          "model_module": "@jupyter-widgets/controls",
          "model_module_version": "1.5.0",
          "model_name": "DescriptionStyleModel",
          "state": {
            "_model_module": "@jupyter-widgets/controls",
            "_model_module_version": "1.5.0",
            "_model_name": "DescriptionStyleModel",
            "_view_count": null,
            "_view_module": "@jupyter-widgets/base",
            "_view_module_version": "1.2.0",
            "_view_name": "StyleView",
            "description_width": ""
          }
        },
        "516bb728ea0e4a35a5c0ee397d8df800": {
          "model_module": "@jupyter-widgets/base",
          "model_module_version": "1.2.0",
          "model_name": "LayoutModel",
          "state": {
            "_model_module": "@jupyter-widgets/base",
            "_model_module_version": "1.2.0",
            "_model_name": "LayoutModel",
            "_view_count": null,
            "_view_module": "@jupyter-widgets/base",
            "_view_module_version": "1.2.0",
            "_view_name": "LayoutView",
            "align_content": null,
            "align_items": null,
            "align_self": null,
            "border": null,
            "bottom": null,
            "display": null,
            "flex": null,
            "flex_flow": null,
            "grid_area": null,
            "grid_auto_columns": null,
            "grid_auto_flow": null,
            "grid_auto_rows": null,
            "grid_column": null,
            "grid_gap": null,
            "grid_row": null,
            "grid_template_areas": null,
            "grid_template_columns": null,
            "grid_template_rows": null,
            "height": null,
            "justify_content": null,
            "justify_items": null,
            "left": null,
            "margin": null,
            "max_height": null,
            "max_width": null,
            "min_height": null,
            "min_width": null,
            "object_fit": null,
            "object_position": null,
            "order": null,
            "overflow": null,
            "overflow_x": null,
            "overflow_y": null,
            "padding": null,
            "right": null,
            "top": null,
            "visibility": null,
            "width": null
          }
        },
        "5e546887e58f4f299bfc34e29f9c1ddf": {
          "model_module": "@jupyter-widgets/controls",
          "model_module_version": "1.5.0",
          "model_name": "HTMLModel",
          "state": {
            "_dom_classes": [],
            "_model_module": "@jupyter-widgets/controls",
            "_model_module_version": "1.5.0",
            "_model_name": "HTMLModel",
            "_view_count": null,
            "_view_module": "@jupyter-widgets/controls",
            "_view_module_version": "1.5.0",
            "_view_name": "HTMLView",
            "description": "",
            "description_tooltip": null,
            "layout": "IPY_MODEL_728a1521936c4481b2f0dfbd8edad7da",
            "placeholder": "​",
            "style": "IPY_MODEL_710aee4da3904e2f8f76156da66fbfce",
            "value": " 493k/493k [00:00&lt;00:00, 4.40MB/s]"
          }
        },
        "6208911d0e2647d888d0895c9821dc8b": {
          "model_module": "@jupyter-widgets/base",
          "model_module_version": "1.2.0",
          "model_name": "LayoutModel",
          "state": {
            "_model_module": "@jupyter-widgets/base",
            "_model_module_version": "1.2.0",
            "_model_name": "LayoutModel",
            "_view_count": null,
            "_view_module": "@jupyter-widgets/base",
            "_view_module_version": "1.2.0",
            "_view_name": "LayoutView",
            "align_content": null,
            "align_items": null,
            "align_self": null,
            "border": null,
            "bottom": null,
            "display": null,
            "flex": null,
            "flex_flow": null,
            "grid_area": null,
            "grid_auto_columns": null,
            "grid_auto_flow": null,
            "grid_auto_rows": null,
            "grid_column": null,
            "grid_gap": null,
            "grid_row": null,
            "grid_template_areas": null,
            "grid_template_columns": null,
            "grid_template_rows": null,
            "height": null,
            "justify_content": null,
            "justify_items": null,
            "left": null,
            "margin": null,
            "max_height": null,
            "max_width": null,
            "min_height": null,
            "min_width": null,
            "object_fit": null,
            "object_position": null,
            "order": null,
            "overflow": null,
            "overflow_x": null,
            "overflow_y": null,
            "padding": null,
            "right": null,
            "top": null,
            "visibility": null,
            "width": null
          }
        },
        "62757a2bb8d34366ba8f1baf0db4c142": {
          "model_module": "@jupyter-widgets/base",
          "model_module_version": "1.2.0",
          "model_name": "LayoutModel",
          "state": {
            "_model_module": "@jupyter-widgets/base",
            "_model_module_version": "1.2.0",
            "_model_name": "LayoutModel",
            "_view_count": null,
            "_view_module": "@jupyter-widgets/base",
            "_view_module_version": "1.2.0",
            "_view_name": "LayoutView",
            "align_content": null,
            "align_items": null,
            "align_self": null,
            "border": null,
            "bottom": null,
            "display": null,
            "flex": null,
            "flex_flow": null,
            "grid_area": null,
            "grid_auto_columns": null,
            "grid_auto_flow": null,
            "grid_auto_rows": null,
            "grid_column": null,
            "grid_gap": null,
            "grid_row": null,
            "grid_template_areas": null,
            "grid_template_columns": null,
            "grid_template_rows": null,
            "height": null,
            "justify_content": null,
            "justify_items": null,
            "left": null,
            "margin": null,
            "max_height": null,
            "max_width": null,
            "min_height": null,
            "min_width": null,
            "object_fit": null,
            "object_position": null,
            "order": null,
            "overflow": null,
            "overflow_x": null,
            "overflow_y": null,
            "padding": null,
            "right": null,
            "top": null,
            "visibility": null,
            "width": null
          }
        },
        "710aee4da3904e2f8f76156da66fbfce": {
          "model_module": "@jupyter-widgets/controls",
          "model_module_version": "1.5.0",
          "model_name": "DescriptionStyleModel",
          "state": {
            "_model_module": "@jupyter-widgets/controls",
            "_model_module_version": "1.5.0",
            "_model_name": "DescriptionStyleModel",
            "_view_count": null,
            "_view_module": "@jupyter-widgets/base",
            "_view_module_version": "1.2.0",
            "_view_name": "StyleView",
            "description_width": ""
          }
        },
        "71979b8c4d054dfcb84e58d4507efac7": {
          "model_module": "@jupyter-widgets/controls",
          "model_module_version": "1.5.0",
          "model_name": "FloatProgressModel",
          "state": {
            "_dom_classes": [],
            "_model_module": "@jupyter-widgets/controls",
            "_model_module_version": "1.5.0",
            "_model_name": "FloatProgressModel",
            "_view_count": null,
            "_view_module": "@jupyter-widgets/controls",
            "_view_module_version": "1.5.0",
            "_view_name": "ProgressView",
            "bar_style": "success",
            "description": "",
            "description_tooltip": null,
            "layout": "IPY_MODEL_378db183da8b4350a9d2468aa660121a",
            "max": 1408,
            "min": 0,
            "orientation": "horizontal",
            "style": "IPY_MODEL_a49356d927e34e0cba12a8285b0dafbc",
            "value": 1408
          }
        },
        "728a1521936c4481b2f0dfbd8edad7da": {
          "model_module": "@jupyter-widgets/base",
          "model_module_version": "1.2.0",
          "model_name": "LayoutModel",
          "state": {
            "_model_module": "@jupyter-widgets/base",
            "_model_module_version": "1.2.0",
            "_model_name": "LayoutModel",
            "_view_count": null,
            "_view_module": "@jupyter-widgets/base",
            "_view_module_version": "1.2.0",
            "_view_name": "LayoutView",
            "align_content": null,
            "align_items": null,
            "align_self": null,
            "border": null,
            "bottom": null,
            "display": null,
            "flex": null,
            "flex_flow": null,
            "grid_area": null,
            "grid_auto_columns": null,
            "grid_auto_flow": null,
            "grid_auto_rows": null,
            "grid_column": null,
            "grid_gap": null,
            "grid_row": null,
            "grid_template_areas": null,
            "grid_template_columns": null,
            "grid_template_rows": null,
            "height": null,
            "justify_content": null,
            "justify_items": null,
            "left": null,
            "margin": null,
            "max_height": null,
            "max_width": null,
            "min_height": null,
            "min_width": null,
            "object_fit": null,
            "object_position": null,
            "order": null,
            "overflow": null,
            "overflow_x": null,
            "overflow_y": null,
            "padding": null,
            "right": null,
            "top": null,
            "visibility": null,
            "width": null
          }
        },
        "8e55b4bb7bd240c788952ada696770ef": {
          "model_module": "@jupyter-widgets/base",
          "model_module_version": "1.2.0",
          "model_name": "LayoutModel",
          "state": {
            "_model_module": "@jupyter-widgets/base",
            "_model_module_version": "1.2.0",
            "_model_name": "LayoutModel",
            "_view_count": null,
            "_view_module": "@jupyter-widgets/base",
            "_view_module_version": "1.2.0",
            "_view_name": "LayoutView",
            "align_content": null,
            "align_items": null,
            "align_self": null,
            "border": null,
            "bottom": null,
            "display": null,
            "flex": null,
            "flex_flow": null,
            "grid_area": null,
            "grid_auto_columns": null,
            "grid_auto_flow": null,
            "grid_auto_rows": null,
            "grid_column": null,
            "grid_gap": null,
            "grid_row": null,
            "grid_template_areas": null,
            "grid_template_columns": null,
            "grid_template_rows": null,
            "height": null,
            "justify_content": null,
            "justify_items": null,
            "left": null,
            "margin": null,
            "max_height": null,
            "max_width": null,
            "min_height": null,
            "min_width": null,
            "object_fit": null,
            "object_position": null,
            "order": null,
            "overflow": null,
            "overflow_x": null,
            "overflow_y": null,
            "padding": null,
            "right": null,
            "top": null,
            "visibility": null,
            "width": null
          }
        },
        "9ca5695178ff418cb495362a75d44183": {
          "model_module": "@jupyter-widgets/controls",
          "model_module_version": "1.5.0",
          "model_name": "DescriptionStyleModel",
          "state": {
            "_model_module": "@jupyter-widgets/controls",
            "_model_module_version": "1.5.0",
            "_model_name": "DescriptionStyleModel",
            "_view_count": null,
            "_view_module": "@jupyter-widgets/base",
            "_view_module_version": "1.2.0",
            "_view_name": "StyleView",
            "description_width": ""
          }
        },
        "a2ed3d0dd71a454aabc1b63d13f9d5e2": {
          "model_module": "@jupyter-widgets/controls",
          "model_module_version": "1.5.0",
          "model_name": "ProgressStyleModel",
          "state": {
            "_model_module": "@jupyter-widgets/controls",
            "_model_module_version": "1.5.0",
            "_model_name": "ProgressStyleModel",
            "_view_count": null,
            "_view_module": "@jupyter-widgets/base",
            "_view_module_version": "1.2.0",
            "_view_name": "StyleView",
            "bar_color": null,
            "description_width": ""
          }
        },
        "a49356d927e34e0cba12a8285b0dafbc": {
          "model_module": "@jupyter-widgets/controls",
          "model_module_version": "1.5.0",
          "model_name": "ProgressStyleModel",
          "state": {
            "_model_module": "@jupyter-widgets/controls",
            "_model_module_version": "1.5.0",
            "_model_name": "ProgressStyleModel",
            "_view_count": null,
            "_view_module": "@jupyter-widgets/base",
            "_view_module_version": "1.2.0",
            "_view_name": "StyleView",
            "bar_color": null,
            "description_width": ""
          }
        },
        "a8ad2c67fb0b40be8ee2685b90bdb587": {
          "model_module": "@jupyter-widgets/controls",
          "model_module_version": "1.5.0",
          "model_name": "FloatProgressModel",
          "state": {
            "_dom_classes": [],
            "_model_module": "@jupyter-widgets/controls",
            "_model_module_version": "1.5.0",
            "_model_name": "FloatProgressModel",
            "_view_count": null,
            "_view_module": "@jupyter-widgets/controls",
            "_view_module_version": "1.5.0",
            "_view_name": "ProgressView",
            "bar_style": "success",
            "description": "",
            "description_tooltip": null,
            "layout": "IPY_MODEL_8e55b4bb7bd240c788952ada696770ef",
            "max": 493443,
            "min": 0,
            "orientation": "horizontal",
            "style": "IPY_MODEL_a2ed3d0dd71a454aabc1b63d13f9d5e2",
            "value": 493443
          }
        },
        "a926272f698545c4aecc6b139d8b9571": {
          "model_module": "@jupyter-widgets/base",
          "model_module_version": "1.2.0",
          "model_name": "LayoutModel",
          "state": {
            "_model_module": "@jupyter-widgets/base",
            "_model_module_version": "1.2.0",
            "_model_name": "LayoutModel",
            "_view_count": null,
            "_view_module": "@jupyter-widgets/base",
            "_view_module_version": "1.2.0",
            "_view_name": "LayoutView",
            "align_content": null,
            "align_items": null,
            "align_self": null,
            "border": null,
            "bottom": null,
            "display": null,
            "flex": null,
            "flex_flow": null,
            "grid_area": null,
            "grid_auto_columns": null,
            "grid_auto_flow": null,
            "grid_auto_rows": null,
            "grid_column": null,
            "grid_gap": null,
            "grid_row": null,
            "grid_template_areas": null,
            "grid_template_columns": null,
            "grid_template_rows": null,
            "height": null,
            "justify_content": null,
            "justify_items": null,
            "left": null,
            "margin": null,
            "max_height": null,
            "max_width": null,
            "min_height": null,
            "min_width": null,
            "object_fit": null,
            "object_position": null,
            "order": null,
            "overflow": null,
            "overflow_x": null,
            "overflow_y": null,
            "padding": null,
            "right": null,
            "top": null,
            "visibility": null,
            "width": null
          }
        },
        "c52678b6c7474862877a7ca21d9cb1bc": {
          "model_module": "@jupyter-widgets/controls",
          "model_module_version": "1.5.0",
          "model_name": "DescriptionStyleModel",
          "state": {
            "_model_module": "@jupyter-widgets/controls",
            "_model_module_version": "1.5.0",
            "_model_name": "DescriptionStyleModel",
            "_view_count": null,
            "_view_module": "@jupyter-widgets/base",
            "_view_module_version": "1.2.0",
            "_view_name": "StyleView",
            "description_width": ""
          }
        },
        "c8753208cb3d4e9a88be725edcb16582": {
          "model_module": "@jupyter-widgets/base",
          "model_module_version": "1.2.0",
          "model_name": "LayoutModel",
          "state": {
            "_model_module": "@jupyter-widgets/base",
            "_model_module_version": "1.2.0",
            "_model_name": "LayoutModel",
            "_view_count": null,
            "_view_module": "@jupyter-widgets/base",
            "_view_module_version": "1.2.0",
            "_view_name": "LayoutView",
            "align_content": null,
            "align_items": null,
            "align_self": null,
            "border": null,
            "bottom": null,
            "display": null,
            "flex": null,
            "flex_flow": null,
            "grid_area": null,
            "grid_auto_columns": null,
            "grid_auto_flow": null,
            "grid_auto_rows": null,
            "grid_column": null,
            "grid_gap": null,
            "grid_row": null,
            "grid_template_areas": null,
            "grid_template_columns": null,
            "grid_template_rows": null,
            "height": null,
            "justify_content": null,
            "justify_items": null,
            "left": null,
            "margin": null,
            "max_height": null,
            "max_width": null,
            "min_height": null,
            "min_width": null,
            "object_fit": null,
            "object_position": null,
            "order": null,
            "overflow": null,
            "overflow_x": null,
            "overflow_y": null,
            "padding": null,
            "right": null,
            "top": null,
            "visibility": null,
            "width": null
          }
        },
        "cb069ecd051a4038a728c3aef4101942": {
          "model_module": "@jupyter-widgets/base",
          "model_module_version": "1.2.0",
          "model_name": "LayoutModel",
          "state": {
            "_model_module": "@jupyter-widgets/base",
            "_model_module_version": "1.2.0",
            "_model_name": "LayoutModel",
            "_view_count": null,
            "_view_module": "@jupyter-widgets/base",
            "_view_module_version": "1.2.0",
            "_view_name": "LayoutView",
            "align_content": null,
            "align_items": null,
            "align_self": null,
            "border": null,
            "bottom": null,
            "display": null,
            "flex": null,
            "flex_flow": null,
            "grid_area": null,
            "grid_auto_columns": null,
            "grid_auto_flow": null,
            "grid_auto_rows": null,
            "grid_column": null,
            "grid_gap": null,
            "grid_row": null,
            "grid_template_areas": null,
            "grid_template_columns": null,
            "grid_template_rows": null,
            "height": null,
            "justify_content": null,
            "justify_items": null,
            "left": null,
            "margin": null,
            "max_height": null,
            "max_width": null,
            "min_height": null,
            "min_width": null,
            "object_fit": null,
            "object_position": null,
            "order": null,
            "overflow": null,
            "overflow_x": null,
            "overflow_y": null,
            "padding": null,
            "right": null,
            "top": null,
            "visibility": null,
            "width": null
          }
        },
        "cf18c392ce7a4b85919a7db989812d21": {
          "model_module": "@jupyter-widgets/controls",
          "model_module_version": "1.5.0",
          "model_name": "HTMLModel",
          "state": {
            "_dom_classes": [],
            "_model_module": "@jupyter-widgets/controls",
            "_model_module_version": "1.5.0",
            "_model_name": "HTMLModel",
            "_view_count": null,
            "_view_module": "@jupyter-widgets/controls",
            "_view_module_version": "1.5.0",
            "_view_name": "HTMLView",
            "description": "",
            "description_tooltip": null,
            "layout": "IPY_MODEL_62757a2bb8d34366ba8f1baf0db4c142",
            "placeholder": "​",
            "style": "IPY_MODEL_191b68493a76491db389d618810f705c",
            "value": " 1.80M/1.80M [00:00&lt;00:00, 10.6MB/s]"
          }
        },
        "d47f861d1a1b4e918571071fa81a2a44": {
          "model_module": "@jupyter-widgets/controls",
          "model_module_version": "1.5.0",
          "model_name": "HTMLModel",
          "state": {
            "_dom_classes": [],
            "_model_module": "@jupyter-widgets/controls",
            "_model_module_version": "1.5.0",
            "_model_name": "HTMLModel",
            "_view_count": null,
            "_view_module": "@jupyter-widgets/controls",
            "_view_module_version": "1.5.0",
            "_view_name": "HTMLView",
            "description": "",
            "description_tooltip": null,
            "layout": "IPY_MODEL_cb069ecd051a4038a728c3aef4101942",
            "placeholder": "​",
            "style": "IPY_MODEL_c52678b6c7474862877a7ca21d9cb1bc",
            "value": " 1.41k/1.41k [00:00&lt;00:00, 44.4kB/s]"
          }
        },
        "d97c2ed53fd84dccbe6b7bdb54c62dbe": {
          "model_module": "@jupyter-widgets/controls",
          "model_module_version": "1.5.0",
          "model_name": "HTMLModel",
          "state": {
            "_dom_classes": [],
            "_model_module": "@jupyter-widgets/controls",
            "_model_module_version": "1.5.0",
            "_model_name": "HTMLModel",
            "_view_count": null,
            "_view_module": "@jupyter-widgets/controls",
            "_view_module_version": "1.5.0",
            "_view_name": "HTMLView",
            "description": "",
            "description_tooltip": null,
            "layout": "IPY_MODEL_1507c6e904bd4ff4980ea9f81194b45b",
            "placeholder": "​",
            "style": "IPY_MODEL_4cba448db19e488c81f7764dcb9361aa",
            "value": "tokenizer.model: 100%"
          }
        },
        "eb610ca172dc4cf4948320e5335a342a": {
          "model_module": "@jupyter-widgets/controls",
          "model_module_version": "1.5.0",
          "model_name": "HTMLModel",
          "state": {
            "_dom_classes": [],
            "_model_module": "@jupyter-widgets/controls",
            "_model_module_version": "1.5.0",
            "_model_name": "HTMLModel",
            "_view_count": null,
            "_view_module": "@jupyter-widgets/controls",
            "_view_module_version": "1.5.0",
            "_view_name": "HTMLView",
            "description": "",
            "description_tooltip": null,
            "layout": "IPY_MODEL_6208911d0e2647d888d0895c9821dc8b",
            "placeholder": "​",
            "style": "IPY_MODEL_9ca5695178ff418cb495362a75d44183",
            "value": "tokenizer_config.json: 100%"
          }
        },
        "f28b824a7b3646919a60b773f4b5cbd0": {
          "model_module": "@jupyter-widgets/controls",
          "model_module_version": "1.5.0",
          "model_name": "DescriptionStyleModel",
          "state": {
            "_model_module": "@jupyter-widgets/controls",
            "_model_module_version": "1.5.0",
            "_model_name": "DescriptionStyleModel",
            "_view_count": null,
            "_view_module": "@jupyter-widgets/base",
            "_view_module_version": "1.2.0",
            "_view_name": "StyleView",
            "description_width": ""
          }
        },
        "f83f8d180167450592820dfb878e09ac": {
          "model_module": "@jupyter-widgets/controls",
          "model_module_version": "1.5.0",
          "model_name": "HBoxModel",
          "state": {
            "_dom_classes": [],
            "_model_module": "@jupyter-widgets/controls",
            "_model_module_version": "1.5.0",
            "_model_name": "HBoxModel",
            "_view_count": null,
            "_view_module": "@jupyter-widgets/controls",
            "_view_module_version": "1.5.0",
            "_view_name": "HBoxView",
            "box_style": "",
            "children": [
              "IPY_MODEL_f974b5e0a00744c09fafee35a69d78ec",
              "IPY_MODEL_30c50679df4d49e0a6716670d434ac70",
              "IPY_MODEL_cf18c392ce7a4b85919a7db989812d21"
            ],
            "layout": "IPY_MODEL_06a90a59a05541bfacaf8462e547d33a"
          }
        },
        "f974b5e0a00744c09fafee35a69d78ec": {
          "model_module": "@jupyter-widgets/controls",
          "model_module_version": "1.5.0",
          "model_name": "HTMLModel",
          "state": {
            "_dom_classes": [],
            "_model_module": "@jupyter-widgets/controls",
            "_model_module_version": "1.5.0",
            "_model_name": "HTMLModel",
            "_view_count": null,
            "_view_module": "@jupyter-widgets/controls",
            "_view_module_version": "1.5.0",
            "_view_name": "HTMLView",
            "description": "",
            "description_tooltip": null,
            "layout": "IPY_MODEL_16af10e347aa4e9b8321c8357af5c46f",
            "placeholder": "​",
            "style": "IPY_MODEL_f28b824a7b3646919a60b773f4b5cbd0",
            "value": "tokenizer.json: 100%"
          }
        },
        "fba5245dfbd44d83a17d0105f00c5004": {
          "model_module": "@jupyter-widgets/controls",
          "model_module_version": "1.5.0",
          "model_name": "HBoxModel",
          "state": {
            "_dom_classes": [],
            "_model_module": "@jupyter-widgets/controls",
            "_model_module_version": "1.5.0",
            "_model_name": "HBoxModel",
            "_view_count": null,
            "_view_module": "@jupyter-widgets/controls",
            "_view_module_version": "1.5.0",
            "_view_name": "HBoxView",
            "box_style": "",
            "children": [
              "IPY_MODEL_eb610ca172dc4cf4948320e5335a342a",
              "IPY_MODEL_71979b8c4d054dfcb84e58d4507efac7",
              "IPY_MODEL_d47f861d1a1b4e918571071fa81a2a44"
            ],
            "layout": "IPY_MODEL_c8753208cb3d4e9a88be725edcb16582"
          }
        }
      }
    }
  },
  "nbformat": 4,
  "nbformat_minor": 0
}
